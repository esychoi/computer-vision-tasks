{
  "cells": [
    {
      "cell_type": "markdown",
      "metadata": {
        "id": "TRuKJ3fbUVge"
      },
      "source": [
        "# Image classification using CNN\n",
        "\n",
        "**Esther SunYoung CHOI**\n",
        "\n",
        "Image classification is a fundamental task in Computer Vision that consists of assigning a label to an image, the label being the name of the object represented in the image.\n",
        "\n",
        "The goal of this project is to implement a Convolutional Neural Network to perform image classification using PyTorch.\n",
        "\n",
        "\n",
        "# Table of Contents\n",
        "1. Intro to CNN\n",
        "2. Exploring the data\n",
        "3. Building a model\n",
        "4. Training the model\n",
        "5. Visualizing results\n",
        "6. Conclusion"
      ]
    },
    {
      "cell_type": "markdown",
      "metadata": {
        "id": "vGUmB-J8Yqiu"
      },
      "source": [
        "## Intro to CNN\n",
        "\n",
        "Convolutional Neural Networks have become the state-of-the-art architecture in almost all Machine Learning tasks applied to images. They differ from traditional neural networks by the types of layers they use : convolutional layers and pooling layers.\n",
        "\n",
        "### Convolutional layers\n",
        "\n",
        "Convolutional layers perform a convolution operation between the input data and a feature detector, called kernel or filter. The filter is a small matrix that we pass over each pixel of the input image and allows the detection of features such as straight lines, edges or circles.\n",
        "\n",
        "### Pooling layers\n",
        "\n",
        "Pooling layers aggregate the values of the ouput tensor of convolutional layers to reduce its dimensions and amplify the extracted feature.\n",
        "\n",
        "Common pooling functions include max pooling and average pooling that takes respectively the maximum and average value of a small aggregate of pixels.\n",
        "\n",
        "### Fully connected layers\n",
        "\n",
        "Fully connected layers are nothing more than a classic neural network where all neurons are connected to all neurons of the next layer, hence the name.\n",
        "\n",
        "CNNs thus consist of two main parts : a convolutional/pooling part that breaks down the image into features and a fully connected neural network to take the final decision."
      ]
    },
    {
      "cell_type": "markdown",
      "metadata": {
        "id": "bOQFa8rmmIV5"
      },
      "source": [
        "## Importing all useful modules"
      ]
    },
    {
      "cell_type": "code",
      "execution_count": null,
      "metadata": {
        "id": "E3y5vvx2mNw9"
      },
      "outputs": [],
      "source": [
        "import argparse\n",
        "import os\n",
        "import time\n",
        "import random\n",
        "\n",
        "from google.colab import output\n",
        "\n",
        "import matplotlib.pyplot as plt\n",
        "import numpy as np\n",
        "\n",
        "import torch\n",
        "import torch.nn as nn\n",
        "import torch.nn.parallel\n",
        "import torch.backends.cudnn as cudnn\n",
        "import torch.optim\n",
        "import torch.utils.data\n",
        "import torchvision\n",
        "import torchvision.transforms as transforms\n",
        "import torchvision.datasets as datasets\n",
        "\n",
        "from torchsummary import summary"
      ]
    },
    {
      "cell_type": "markdown",
      "metadata": {
        "id": "1NOvX3LMYuw1"
      },
      "source": [
        "## Exploring the data\n",
        "\n",
        "We will be using the [CIFAR-10 database](https://www.cs.toronto.edu/~kriz/cifar.html) that contains 10 classes of 32x32 RGB images, 50k in train and 10k in test."
      ]
    },
    {
      "cell_type": "code",
      "execution_count": null,
      "metadata": {
        "id": "Fkfx1d4jY0nU"
      },
      "outputs": [],
      "source": [
        "def get_dataset(batch_size, cuda=False):\n",
        "    \"\"\"\n",
        "    Loads the CIFAR-10 dataset and performs transformations on each\n",
        "    image (listed in `transform = ...`).\n",
        "    \"\"\"\n",
        "    trainset = datasets.CIFAR10(root='./data', train=True, download=True,\n",
        "        transform=transforms.Compose([\n",
        "            transforms.ToTensor()\n",
        "        ]))\n",
        "    testset = datasets.CIFAR10(root='./data', train=False, download=True,\n",
        "        transform=transforms.Compose([\n",
        "            transforms.ToTensor()\n",
        "        ]))\n",
        "\n",
        "    train_loader = torch.utils.data.DataLoader(trainset,\n",
        "                        batch_size=batch_size, shuffle=True, pin_memory=cuda, num_workers=2)\n",
        "    val_loader = torch.utils.data.DataLoader(testset,\n",
        "                        batch_size=batch_size, shuffle=False, pin_memory=cuda, num_workers=2)\n",
        "\n",
        "    return train_loader, val_loader"
      ]
    },
    {
      "cell_type": "code",
      "execution_count": null,
      "metadata": {
        "colab": {
          "base_uri": "https://localhost:8080/",
          "height": 101,
          "referenced_widgets": [
            "796914f00022483ebea53ec66ff6a772",
            "b0fefee0854f4450b85e0b1229e5098e",
            "9f81a3e15d494d8e8f4b80d195439d85",
            "edf8f3970bdb4e2cbd902fa3513aadea",
            "8c70e3b553bd42278f86e8f2d25e9869",
            "aebd821a2ea14382885844d539e0f746",
            "66d76bfd92ed4af4b9dd97a75178ca9f",
            "7ff2be8f19224ff59d3de4a08014b7b6",
            "c3220ea6a2b04838997c220aafeb3f1a",
            "846d1f061f91422fbf975e9ce385954b",
            "d4134fa9fb1944848086c2aa5c04148a"
          ]
        },
        "id": "o8TsjLQWoBhk",
        "outputId": "6bfbb58d-555c-4902-a49f-6ff8f67194b0"
      },
      "outputs": [
        {
          "name": "stdout",
          "output_type": "stream",
          "text": [
            "Downloading https://www.cs.toronto.edu/~kriz/cifar-10-python.tar.gz to ./data/cifar-10-python.tar.gz\n"
          ]
        },
        {
          "data": {
            "application/vnd.jupyter.widget-view+json": {
              "model_id": "796914f00022483ebea53ec66ff6a772",
              "version_major": 2,
              "version_minor": 0
            },
            "text/plain": [
              "  0%|          | 0/170498071 [00:00<?, ?it/s]"
            ]
          },
          "metadata": {},
          "output_type": "display_data"
        },
        {
          "name": "stdout",
          "output_type": "stream",
          "text": [
            "Extracting ./data/cifar-10-python.tar.gz to ./data\n",
            "Files already downloaded and verified\n"
          ]
        }
      ],
      "source": [
        "PRINT_INTERVAL = 100\n",
        "BATCH_SIZE = 128\n",
        "CUDA = True\n",
        "train, test = get_dataset(batch_size=BATCH_SIZE,cuda=CUDA)"
      ]
    },
    {
      "cell_type": "markdown",
      "metadata": {
        "id": "XXxK-_30o5eS"
      },
      "source": [
        "Let's display a few images."
      ]
    },
    {
      "cell_type": "code",
      "execution_count": null,
      "metadata": {
        "colab": {
          "base_uri": "https://localhost:8080/",
          "height": 147
        },
        "id": "MB0F3Dk2o89V",
        "outputId": "8d020631-cca9-4ea1-cd68-a09efae4b394"
      },
      "outputs": [
        {
          "data": {
            "image/png": "[encoded data removed]",
            "text/plain": [
              "<Figure size 720x288 with 5 Axes>"
            ]
          },
          "metadata": {},
          "output_type": "display_data"
        }
      ],
      "source": [
        "classes = ['plane', 'car', 'bird', 'cat', 'deer', 'dog', 'frog', 'horse', 'ship', 'truck']\n",
        "\n",
        "train_features, train_labels = next(iter(train))    \n",
        "\n",
        "plt.figure(figsize=(10, 4))\n",
        "for i in range(5):\n",
        "    ax = plt.subplot(1,5,i+1)\n",
        "    num = random.randint(0, train_features.shape[0])\n",
        "    img = train_features[num].numpy().transpose((1,2,0))\n",
        "    plt.imshow(img)\n",
        "    plt.title(\"Class {}\".format(classes[train_labels[num]]))\n",
        "    ax.get_xaxis().set_visible(False)\n",
        "    ax.get_yaxis().set_visible(False)\n",
        "    \n",
        "plt.show()"
      ]
    },
    {
      "cell_type": "markdown",
      "metadata": {
        "id": "Vet78qxXY1fx"
      },
      "source": [
        "## Building a model\n",
        "\n",
        "In this paragraph, we will note $D$ the number of feature maps, $k$ the width of the filter, $p$ the padding and $s$ the stride.\n",
        "\n",
        "The model we are going to build will be composed of the following layers :\n",
        "- `conv1` : convolution layer with $D=32, k=5, p=2, s=1$ and ReLU activation\n",
        "- `pool1` : max-pooling with window of size 2x2, $p=0,s=2$\n",
        "- `conv2` : convolution layer with $D=32, k=5, p=2, s=1$ and ReLU activation\n",
        "- `pool2` : max-pooling with window of size 2x2, $p=0,s=2$\n",
        "- `conv3` : convolution layer with $D=32, k=5, p=2, s=1$ and ReLU activation\n",
        "- `pool3` : max-pooling with window of size 2x2, $p=0,s=2$\n",
        "- `fc4` : fully-connected layer with 1000 output neurons, with ReLU activation\n",
        "- `fc5` : fully-connected layer with 10 output neurons, with softmax activation\n",
        "\n",
        "The values of padding and stride are chosen so that the output of convolution layers have the same spatial dimensions (width and height) as the input, and so that pooling layers divide spatial dimensions by 2.\n",
        "\n",
        "The table below shows the dimensions of outputs and the number of parameters to train.\n",
        "\n",
        "| Layer | Output size | Number of weights |\n",
        "| ----------- | ----------- |---|\n",
        "| `conv1`      | 32 x 32 x 32       | (5 x 5 x 3 + 1) x 32 = 2,432|\n",
        "| `pool1`   | 16 x 16 x 32      |0|\n",
        "| `conv2`      | 16 x 16 x 64        | (5 x 5 x 32 + 1) x 64 = 51 264|\n",
        "| `pool2`   | 8 x 8 x 64        |0|\n",
        "| `conv3`      | 8 x 8 x 64       | (5 x 5 x 64 + 1) x 64 = 102 464|\n",
        "| `pool3`   | 4 x 4 x 64         |0|\n",
        "| `fc4`      | 1000 x 1    | 1000 x (4 x 4 x 64) + 1000 = 1 025 000|\n",
        "| `fc5`   | 10 x 1      |10 x 1000 + 10 = 10010 |\n",
        "\n",
        "2432 + 51 264 + 102 464 + 1 025 000 + 10010 = 1,191,170. \\\\\n",
        "There are 1,191,170 parameters in total. Considering that there are only 50,000 examples in the training set, there is a risk of overfitting."
      ]
    },
    {
      "cell_type": "code",
      "execution_count": null,
      "metadata": {
        "id": "Rg2yuLGRY4EJ"
      },
      "outputs": [],
      "source": [
        "class ConvNet(nn.Module):\n",
        "    \"\"\"\n",
        "    This class defines the structure of the neural network\n",
        "    \"\"\"\n",
        "\n",
        "    def __init__(self):\n",
        "        super(ConvNet, self).__init__()\n",
        "\n",
        "        # Defining the convolution and pooling layers as a feature extractors\n",
        "        self.features = nn.Sequential(\n",
        "            nn.Conv2d(3, 32, (5, 5), stride=1, padding=2),\n",
        "            nn.ReLU(),\n",
        "            nn.MaxPool2d((2, 2), stride=2, padding=0),\n",
        "            nn.Conv2d(32, 64, (5, 5), stride=1, padding=2),\n",
        "            nn.ReLU(),\n",
        "            nn.MaxPool2d((2, 2), stride=2, padding=0),\n",
        "            nn.Conv2d(64, 64, (5, 5), stride=1, padding=2),\n",
        "            nn.ReLU(),\n",
        "            nn.MaxPool2d((2, 2), stride=2, padding=0, ceil_mode = True)\n",
        "        )\n",
        "        # We then define fully connected layers as a classifier\n",
        "        self.classifier = nn.Sequential(\n",
        "            nn.Linear(1024, 1000),\n",
        "            nn.ReLU(),\n",
        "            nn.Linear(1000, 10)\n",
        "        )\n",
        "\n",
        "    # Method called when we apply the network to an input batch\n",
        "    def forward(self, input):\n",
        "        bsize = input.size(0) # batch size\n",
        "        output = self.features(input) # output of the convolution layers\n",
        "        output = output.view(bsize, -1) # we flatten the 2D feature maps into one 1D vector for each input\n",
        "        output = self.classifier(output) # we compute the output of the fc layers\n",
        "        return output"
      ]
    },
    {
      "cell_type": "code",
      "execution_count": null,
      "metadata": {
        "id": "47lxi9Vx8XN9"
      },
      "outputs": [],
      "source": [
        "model = ConvNet()"
      ]
    },
    {
      "cell_type": "code",
      "execution_count": null,
      "metadata": {
        "colab": {
          "base_uri": "https://localhost:8080/"
        },
        "id": "oO_Te3W_LaQc",
        "outputId": "a79dd777-8d96-4ad5-de02-1872d7429bd1"
      },
      "outputs": [
        {
          "name": "stdout",
          "output_type": "stream",
          "text": [
            "----------------------------------------------------------------\n",
            "        Layer (type)               Output Shape         Param #\n",
            "================================================================\n",
            "            Conv2d-1           [-1, 32, 32, 32]           2,432\n",
            "              ReLU-2           [-1, 32, 32, 32]               0\n",
            "         MaxPool2d-3           [-1, 32, 16, 16]               0\n",
            "            Conv2d-4           [-1, 64, 16, 16]          51,264\n",
            "              ReLU-5           [-1, 64, 16, 16]               0\n",
            "         MaxPool2d-6             [-1, 64, 8, 8]               0\n",
            "            Conv2d-7             [-1, 64, 8, 8]         102,464\n",
            "              ReLU-8             [-1, 64, 8, 8]               0\n",
            "         MaxPool2d-9             [-1, 64, 4, 4]               0\n",
            "           Linear-10                 [-1, 1000]       1,025,000\n",
            "             ReLU-11                 [-1, 1000]               0\n",
            "           Linear-12                   [-1, 10]          10,010\n",
            "================================================================\n",
            "Total params: 1,191,170\n",
            "Trainable params: 1,191,170\n",
            "Non-trainable params: 0\n",
            "----------------------------------------------------------------\n",
            "Input size (MB): 0.01\n",
            "Forward/backward pass size (MB): 0.93\n",
            "Params size (MB): 4.54\n",
            "Estimated Total Size (MB): 5.49\n",
            "----------------------------------------------------------------\n"
          ]
        }
      ],
      "source": [
        "device = torch.device(\"cuda\" if torch.cuda.is_available() else \"cpu\")\n",
        "summary(model.to(device),(3,32,32))"
      ]
    },
    {
      "cell_type": "markdown",
      "metadata": {
        "id": "AYHFD7efY43O"
      },
      "source": [
        "## Training the model\n",
        "\n",
        "Now that we have designed a model, we can train it.\n",
        "\n",
        "To do so, we will use the cross-entropy as loss function, with the SGD (Stochastic Gradient Descent) optimizer."
      ]
    },
    {
      "cell_type": "markdown",
      "metadata": {
        "id": "QKV1nyJiDzs_"
      },
      "source": [
        "The following cell contains an accuracy function and classes to compute and plot metrics."
      ]
    },
    {
      "cell_type": "code",
      "execution_count": null,
      "metadata": {
        "id": "M0cILjReDsVC"
      },
      "outputs": [],
      "source": [
        "def accuracy(output, target, topk=(1,)):\n",
        "    \"\"\"Computes the precision@k for the specified values of k\"\"\"\n",
        "    maxk = max(topk)\n",
        "    batch_size = target.size(0)\n",
        "\n",
        "    _, pred = output.topk(maxk, 1, True, True)\n",
        "    pred = pred.t()\n",
        "    correct = pred.eq(target.view(1, -1).expand_as(pred))\n",
        "\n",
        "    res = []\n",
        "    for k in topk:\n",
        "        correct_k = correct[:k].reshape(-1).float().sum(0, keepdim=True)\n",
        "        res.append(correct_k.mul_(100.0 / batch_size))\n",
        "    return res\n",
        "\n",
        "class AverageMeter(object):\n",
        "    \"\"\"Computes and stores the average and current value\"\"\"\n",
        "    def __init__(self, keep_all=False):\n",
        "        self.reset()\n",
        "        self.data = None\n",
        "        if keep_all:\n",
        "            self.data = []\n",
        "\n",
        "    def reset(self):\n",
        "        self.val = 0\n",
        "        self.avg = 0\n",
        "        self.sum = 0\n",
        "        self.count = 0\n",
        "\n",
        "    def update(self, val, n=1):\n",
        "        if self.data is not None:\n",
        "            self.data.append(val)\n",
        "        self.val = val\n",
        "        self.sum += val * n\n",
        "        self.count += n\n",
        "        self.avg = self.sum / self.count\n",
        "\n",
        "class TrainLossPlot(object):\n",
        "    def __init__(self):\n",
        "        self.loss_train = []\n",
        "        self.fig = plt.figure()\n",
        "\n",
        "    def update(self, loss_train):\n",
        "        self.loss_train.append(loss_train)\n",
        "\n",
        "    def plot(self):\n",
        "        plt.figure(self.fig.number)\n",
        "        plt.clf()\n",
        "        plt.plot(np.array(self.loss_train))\n",
        "        plt.title(\"Train loss / batch\")\n",
        "        plt.xlabel(\"Batch\")\n",
        "        plt.ylabel(\"Loss\")\n",
        "        plt.show()\n",
        "        plt.draw_all()\n",
        "        plt.pause(1e-3)\n",
        "\n",
        "class AccLossPlot(object):\n",
        "    def __init__(self):\n",
        "        self.loss_train = []\n",
        "        self.loss_test = []\n",
        "        self.acc_train = []\n",
        "        self.acc_test = []\n",
        "        self.fig = plt.figure()\n",
        "\n",
        "    def update(self, loss_train, loss_test, acc_train, acc_test):\n",
        "        self.loss_train.append(loss_train)\n",
        "        self.loss_test.append(loss_test)\n",
        "        self.acc_train.append(acc_train)\n",
        "        self.acc_test.append(acc_test)\n",
        "        plt.figure(self.fig.number)\n",
        "        plt.clf()\n",
        "        plt.subplot(1,2,1)\n",
        "        plt.plot(np.array(self.acc_train), label=\"acc. train\")\n",
        "        plt.plot(np.array(self.acc_test), label=\"acc. test\")\n",
        "        plt.title(\"Accuracy / epoch\")\n",
        "        plt.xlabel(\"Epoch\")\n",
        "        plt.ylabel(\"Accuracy\")\n",
        "        plt.legend()\n",
        "        plt.subplot(1,2,2)\n",
        "        plt.plot(np.array(self.loss_train), label=\"loss train\")\n",
        "        plt.plot(np.array(self.loss_test), label=\"loss test\")\n",
        "        plt.title(\"Loss / epoch\")\n",
        "        plt.xlabel(\"Epoch\")\n",
        "        plt.ylabel(\"Loss\")\n",
        "        plt.legend()\n",
        "        plt.show()\n",
        "        plt.draw_all()\n",
        "        plt.pause(1e-3)"
      ]
    },
    {
      "cell_type": "markdown",
      "metadata": {
        "id": "4gZT3Tw68-Uj"
      },
      "source": [
        "The following cell contains the code to perform a training epoch."
      ]
    },
    {
      "cell_type": "code",
      "execution_count": null,
      "metadata": {
        "id": "RVA5K30S_1Xl"
      },
      "outputs": [],
      "source": [
        "def epoch(data, model, criterion,optimizer=None, cuda=False):\n",
        "    \"\"\"\n",
        "    Make a pass (called epoch in English) on the data `data` with the\n",
        "     model `model`. Evaluates `criterion` as loss.\n",
        "     If `optimizer` is given, perform a training epoch using\n",
        "     the given optimizer, otherwise, perform an evaluation epoch (no backward)\n",
        "     of the model.\n",
        "    \"\"\"\n",
        "\n",
        "    # indicates whether the model is in eval or train mode (some layers behave differently in train and eval)\n",
        "    model.eval() if optimizer is None else model.train()\n",
        "\n",
        "    # objects to store metric averages\n",
        "    avg_loss = AverageMeter()\n",
        "    avg_top1_acc = AverageMeter()\n",
        "    avg_top5_acc = AverageMeter()\n",
        "    avg_batch_time = AverageMeter()\n",
        "    global loss_plot\n",
        "\n",
        "    # we iterate on the batches\n",
        "    tic = time.time()\n",
        "    for i, (input, target) in enumerate(data):\n",
        "\n",
        "        if cuda: # only with GPU, and not with CPU\n",
        "            input = input.cuda()\n",
        "            target = target.cuda()\n",
        "\n",
        "        # forward\n",
        "        output = model(input)\n",
        "        loss = criterion(output, target)\n",
        "\n",
        "        # backward if we are training\n",
        "        if optimizer:\n",
        "            optimizer.zero_grad()\n",
        "            loss.backward()\n",
        "            optimizer.step()\n",
        "\n",
        "        # compute metrics\n",
        "        prec1, prec5 = accuracy(output, target, topk=(1, 5))\n",
        "        batch_time = time.time() - tic\n",
        "        tic = time.time()\n",
        "\n",
        "        # update\n",
        "        avg_loss.update(loss.item())\n",
        "        avg_top1_acc.update(prec1.item())\n",
        "        avg_top5_acc.update(prec5.item())\n",
        "        avg_batch_time.update(batch_time)\n",
        "        if optimizer:\n",
        "            loss_plot.update(avg_loss.val)\n",
        "\n",
        "        if True: \n",
        "          if i % PRINT_INTERVAL == 0:\n",
        "              print('[{0:s} Batch {1:03d}/{2:03d}]\\t'\n",
        "                    'Time {batch_time.val:.3f}s ({batch_time.avg:.3f}s)\\t'\n",
        "                    'Loss {loss.val:.4f} ({loss.avg:.4f})\\t'\n",
        "                    'Prec@1 {top1.val:5.1f} ({top1.avg:5.1f})\\t'\n",
        "                    'Prec@5 {top5.val:5.1f} ({top5.avg:5.1f})'.format(\n",
        "                    \"EVAL\" if optimizer is None else \"TRAIN\", i, len(data), batch_time=avg_batch_time, loss=avg_loss,\n",
        "                    top1=avg_top1_acc, top5=avg_top5_acc))\n",
        "            #   if optimizer:\n",
        "            #       loss_plot.plot()\n",
        "\n",
        "    # Print summary\n",
        "    if True: \n",
        "      print('\\n===============> Total time {batch_time:d}s\\t'\n",
        "            'Avg loss {loss.avg:.4f}\\t'\n",
        "            'Avg Prec@1 {top1.avg:5.2f} %\\t'\n",
        "            'Avg Prec@5 {top5.avg:5.2f} %\\n'.format(\n",
        "            batch_time=int(avg_batch_time.sum), loss=avg_loss,\n",
        "            top1=avg_top1_acc, top5=avg_top5_acc))\n",
        "\n",
        "    return avg_top1_acc, avg_top5_acc, avg_loss\n"
      ]
    },
    {
      "cell_type": "code",
      "execution_count": null,
      "metadata": {
        "id": "6fvQuv-5cOS-"
      },
      "outputs": [],
      "source": [
        "def main(model,batch_size=128, lr=0.1, epochs=100, cuda=False):\n",
        "    \n",
        "    criterion = nn.CrossEntropyLoss()\n",
        "    # optimizer = torch.optim.SGD(model.parameters(), lr,momentum=0.9)\n",
        "    optimizer = torch.optim.SGD(model.parameters(), lr)\n",
        "    # optimizer = torch.optim.Adam(model.parameters(), lr)\n",
        "    # lr_sched = torch.optim.lr_scheduler.ExponentialLR(optimizer, gamma=0.95)\n",
        "\n",
        "    if cuda: # only with GPU, and not with CPU\n",
        "        cudnn.benchmark = True\n",
        "        model = model.cuda()\n",
        "        criterion = criterion.cuda()\n",
        "\n",
        "    # Get the data\n",
        "    train, test = get_dataset(batch_size, cuda)\n",
        "\n",
        "    # init plots\n",
        "    plot = AccLossPlot()\n",
        "    global loss_plot\n",
        "    loss_plot = TrainLossPlot()\n",
        "\n",
        "    # We iterate on the epochs\n",
        "    for i in range(epochs):\n",
        "        output.clear()\n",
        "\n",
        "        print(\"=================\\n=== EPOCH \"+str(i+1)+\" =====\\n=================\\n\")\n",
        "\n",
        "        # Train phase\n",
        "        top1_acc, avg_top5_acc, loss = epoch(train, model, criterion, optimizer, cuda)\n",
        "        # Test phase\n",
        "        top1_acc_test, top5_acc_test, loss_test = epoch(test, model, criterion, cuda=cuda)\n",
        "        # plot\n",
        "        \n",
        "        plot.update(loss.avg, loss_test.avg, top1_acc.avg, top1_acc_test.avg)\n",
        "        # lr_sched.step()"
      ]
    },
    {
      "cell_type": "code",
      "execution_count": null,
      "metadata": {
        "colab": {
          "base_uri": "https://localhost:8080/",
          "height": 521
        },
        "id": "ici9ylyXceJv",
        "outputId": "b716369a-730b-4fe6-fbf5-ca668c624765"
      },
      "outputs": [
        {
          "name": "stdout",
          "output_type": "stream",
          "text": [
            "=================\n",
            "=== EPOCH 20 =====\n",
            "=================\n",
            "\n",
            "[TRAIN Batch 000/391]\tTime 0.210s (0.210s)\tLoss 0.0337 (0.0337)\tPrec@1  99.2 ( 99.2)\tPrec@5 100.0 (100.0)\n",
            "[TRAIN Batch 200/391]\tTime 0.012s (0.022s)\tLoss 0.0428 (0.0393)\tPrec@1  97.7 ( 98.9)\tPrec@5 100.0 (100.0)\n",
            "\n",
            "===============> Total time 8s\tAvg loss 0.0442\tAvg Prec@1 98.76 %\tAvg Prec@5 100.00 %\n",
            "\n",
            "[EVAL Batch 000/079]\tTime 0.129s (0.129s)\tLoss 2.3345 (2.3345)\tPrec@1  64.8 ( 64.8)\tPrec@5  96.1 ( 96.1)\n",
            "\n",
            "===============> Total time 1s\tAvg loss 2.0948\tAvg Prec@1 66.34 %\tAvg Prec@5 96.83 %\n",
            "\n"
          ]
        },
        {
          "data": {
            "image/png": "[encoded data removed]",
            "text/plain": [
              "<Figure size 432x288 with 2 Axes>"
            ]
          },
          "metadata": {},
          "output_type": "display_data"
        }
      ],
      "source": [
        "model = ConvNet()\n",
        "main(model,batch_size=128, lr=0.1, epochs=20, cuda=True)"
      ]
    },
    {
      "cell_type": "markdown",
      "metadata": {
        "id": "rPrExgnGh52R"
      },
      "source": [
        "We can see the test loss increasing after 10 epochs with a low accuracy (less than 70%). There is clearly an overfitting issue, as we had expected.\n",
        "\n",
        "There exists several ways to handle overfittig, and adding Dropout layers to our model is one of them.\n",
        "\n",
        "Dropout layers randomly remove certain features by setting them to 0 at each epoch. The model tries different combinations of neurons during and training and thus encourage the model to use all neurons individually (as their neighbors may be desactivated at any time).\n",
        "\n",
        "Below, we define another architecture addind Dropout layers."
      ]
    },
    {
      "cell_type": "code",
      "execution_count": 16,
      "metadata": {
        "id": "vA8xRb0U6av_"
      },
      "outputs": [],
      "source": [
        "class ConvNetDropout(nn.Module):\n",
        "    \"\"\"\n",
        "    This class defines the structure of the neural network\n",
        "    \"\"\"\n",
        "\n",
        "    def __init__(self):\n",
        "        super(ConvNetDropout, self).__init__()\n",
        "\n",
        "        # Defining the convolution and pooling layers as a feature extractors\n",
        "        self.features = nn.Sequential(\n",
        "            nn.Conv2d(3, 32, (5, 5), stride=1, padding=2),\n",
        "            nn.ReLU(),\n",
        "            nn.MaxPool2d((2, 2), stride=2, padding=0),\n",
        "            nn.Conv2d(32, 64, (5, 5), stride=1, padding=2),\n",
        "            nn.ReLU(),\n",
        "            #nn.Dropout(p=0.5),\n",
        "            nn.MaxPool2d((2, 2), stride=2, padding=0),\n",
        "            nn.Conv2d(64, 64, (5, 5), stride=1, padding=2),\n",
        "            nn.ReLU(),\n",
        "            nn.MaxPool2d((2, 2), stride=2, padding=0, ceil_mode = True)\n",
        "        )\n",
        "        # We then define fully connected layers as a classifier\n",
        "        self.classifier = nn.Sequential(\n",
        "            nn.Linear(1024, 1000),\n",
        "            nn.ReLU(),\n",
        "            nn.Dropout(p=0.5),\n",
        "            nn.Linear(1000, 10)\n",
        "        )\n",
        "\n",
        "    # Method called when we apply the network to an input batch\n",
        "    def forward(self, input):\n",
        "        bsize = input.size(0) # batch size\n",
        "        output = self.features(input) # output of the convolution layers\n",
        "        output = output.view(bsize, -1) # we flatten the 2D feature maps into one 1D vector for each input\n",
        "        output = self.classifier(output) # we compute the output of the fc layers\n",
        "        return output"
      ]
    },
    {
      "cell_type": "code",
      "execution_count": 17,
      "metadata": {
        "colab": {
          "base_uri": "https://localhost:8080/",
          "height": 521
        },
        "id": "ofN-cDXL7Ika",
        "outputId": "4f00e36f-b6e3-407d-afad-a961f4a0c3c4"
      },
      "outputs": [
        {
          "output_type": "stream",
          "name": "stdout",
          "text": [
            "=================\n",
            "=== EPOCH 20 =====\n",
            "=================\n",
            "\n",
            "[TRAIN Batch 000/391]\tTime 0.156s (0.156s)\tLoss 0.2073 (0.2073)\tPrec@1  92.2 ( 92.2)\tPrec@5 100.0 (100.0)\n",
            "[TRAIN Batch 200/391]\tTime 0.008s (0.020s)\tLoss 0.2609 (0.2393)\tPrec@1  88.3 ( 91.6)\tPrec@5 100.0 ( 99.9)\n",
            "\n",
            "===============> Total time 7s\tAvg loss 0.2573\tAvg Prec@1 90.93 %\tAvg Prec@5 99.90 %\n",
            "\n",
            "[EVAL Batch 000/079]\tTime 0.129s (0.129s)\tLoss 1.1746 (1.1746)\tPrec@1  72.7 ( 72.7)\tPrec@5  97.7 ( 97.7)\n",
            "\n",
            "===============> Total time 1s\tAvg loss 1.0211\tAvg Prec@1 73.19 %\tAvg Prec@5 97.63 %\n",
            "\n"
          ]
        },
        {
          "output_type": "display_data",
          "data": {
            "text/plain": [
              "<Figure size 432x288 with 2 Axes>"
            ],
            "image/png": "[encoded data removed]"
          },
          "metadata": {
            "needs_background": "light"
          }
        }
      ],
      "source": [
        "model2 = ConvNetDropout()\n",
        "main(model2, batch_size=128, lr=0.1, epochs=20, cuda=True)"
      ]
    },
    {
      "cell_type": "code",
      "source": [
        "model2bis = ConvNetDropout()\n",
        "main(model2bis, batch_size=128, lr=0.15, epochs=20, cuda=True)"
      ],
      "metadata": {
        "colab": {
          "base_uri": "https://localhost:8080/",
          "height": 521
        },
        "id": "Gh4EW5u_-s05",
        "outputId": "b7cc2f54-6a2c-4688-ce24-dfe5cbfef257"
      },
      "execution_count": 20,
      "outputs": [
        {
          "output_type": "stream",
          "name": "stdout",
          "text": [
            "=================\n",
            "=== EPOCH 20 =====\n",
            "=================\n",
            "\n",
            "[TRAIN Batch 000/391]\tTime 0.149s (0.149s)\tLoss 0.4043 (0.4043)\tPrec@1  87.5 ( 87.5)\tPrec@5 100.0 (100.0)\n",
            "[TRAIN Batch 200/391]\tTime 0.030s (0.019s)\tLoss 0.1925 (0.2153)\tPrec@1  93.8 ( 92.4)\tPrec@5 100.0 ( 99.9)\n",
            "\n",
            "===============> Total time 7s\tAvg loss 0.2339\tAvg Prec@1 91.71 %\tAvg Prec@5 99.94 %\n",
            "\n",
            "[EVAL Batch 000/079]\tTime 0.134s (0.134s)\tLoss 1.0307 (1.0307)\tPrec@1  75.8 ( 75.8)\tPrec@5  98.4 ( 98.4)\n",
            "\n",
            "===============> Total time 1s\tAvg loss 1.1079\tAvg Prec@1 73.09 %\tAvg Prec@5 97.67 %\n",
            "\n"
          ]
        },
        {
          "output_type": "display_data",
          "data": {
            "text/plain": [
              "<Figure size 432x288 with 2 Axes>"
            ],
            "image/png": "[encoded data removed]"
          },
          "metadata": {
            "needs_background": "light"
          }
        }
      ]
    },
    {
      "cell_type": "code",
      "source": [
        "class ConvNetReducedDropout(nn.Module):\n",
        "    \"\"\"\n",
        "    This class defines the structure of the neural network\n",
        "    \"\"\"\n",
        "\n",
        "    def __init__(self):\n",
        "        super(ConvNetReducedDropout, self).__init__()\n",
        "\n",
        "        # Defining the convolution and pooling layers as a feature extractors\n",
        "        self.features = nn.Sequential(\n",
        "            nn.Conv2d(3, 16, (5, 5), stride=1, padding=2),\n",
        "            nn.ReLU(),\n",
        "            nn.MaxPool2d((2, 2), stride=2, padding=0),\n",
        "            nn.Conv2d(16, 32, (5, 5), stride=1, padding=2),\n",
        "            nn.ReLU(),\n",
        "            #nn.Dropout(p=0.5),\n",
        "            nn.MaxPool2d((2, 2), stride=2, padding=0),\n",
        "            nn.Conv2d(32, 32, (5, 5), stride=1, padding=2),\n",
        "            nn.ReLU(),\n",
        "            nn.MaxPool2d((2, 2), stride=2, padding=0, ceil_mode = True)\n",
        "        )\n",
        "        # We then define fully connected layers as a classifier\n",
        "        self.classifier = nn.Sequential(\n",
        "            nn.Linear(4*4*32, 256),\n",
        "            nn.ReLU(),\n",
        "            nn.Dropout(p=0.5),\n",
        "            nn.Linear(256, 10)\n",
        "        )\n",
        "\n",
        "    # Method called when we apply the network to an input batch\n",
        "    def forward(self, input):\n",
        "        bsize = input.size(0) # batch size\n",
        "        output = self.features(input) # output of the convolution layers\n",
        "        output = output.view(bsize, -1) # we flatten the 2D feature maps into one 1D vector for each input\n",
        "        output = self.classifier(output) # we compute the output of the fc layers\n",
        "        return output"
      ],
      "metadata": {
        "id": "LSt1ccwQ-O0F"
      },
      "execution_count": 23,
      "outputs": []
    },
    {
      "cell_type": "code",
      "source": [
        "model3 = ConvNetReducedDropout()\n",
        "main(model3, batch_size=128, lr=0.1, epochs=20, cuda=True)"
      ],
      "metadata": {
        "colab": {
          "base_uri": "https://localhost:8080/",
          "height": 521
        },
        "id": "mvFwB9We-l1Y",
        "outputId": "2c531e43-4c21-4096-8030-546959eebf29"
      },
      "execution_count": 24,
      "outputs": [
        {
          "output_type": "stream",
          "name": "stdout",
          "text": [
            "=================\n",
            "=== EPOCH 20 =====\n",
            "=================\n",
            "\n",
            "[TRAIN Batch 000/391]\tTime 0.201s (0.201s)\tLoss 0.7802 (0.7802)\tPrec@1  68.8 ( 68.8)\tPrec@5  99.2 ( 99.2)\n",
            "[TRAIN Batch 200/391]\tTime 0.031s (0.023s)\tLoss 0.4729 (0.6864)\tPrec@1  84.4 ( 76.0)\tPrec@5 100.0 ( 98.7)\n",
            "\n",
            "===============> Total time 8s\tAvg loss 0.6940\tAvg Prec@1 75.67 %\tAvg Prec@5 98.65 %\n",
            "\n",
            "[EVAL Batch 000/079]\tTime 0.136s (0.136s)\tLoss 0.9675 (0.9675)\tPrec@1  71.9 ( 71.9)\tPrec@5  97.7 ( 97.7)\n",
            "\n",
            "===============> Total time 1s\tAvg loss 0.9655\tAvg Prec@1 67.99 %\tAvg Prec@5 96.78 %\n",
            "\n"
          ]
        },
        {
          "output_type": "display_data",
          "data": {
            "text/plain": [
              "<Figure size 432x288 with 2 Axes>"
            ],
            "image/png": "[encoded data removed]"
          },
          "metadata": {
            "needs_background": "light"
          }
        }
      ]
    },
    {
      "cell_type": "code",
      "source": [
        "model3bis = ConvNetReducedDropout()\n",
        "main(model3bis, batch_size=128, lr=0.2, epochs=20, cuda=True)"
      ],
      "metadata": {
        "colab": {
          "base_uri": "https://localhost:8080/",
          "height": 521
        },
        "id": "xYbz9vg3BUJj",
        "outputId": "6a267291-287c-4742-c33e-c0c63d03399a"
      },
      "execution_count": 29,
      "outputs": [
        {
          "output_type": "stream",
          "name": "stdout",
          "text": [
            "=================\n",
            "=== EPOCH 20 =====\n",
            "=================\n",
            "\n",
            "[TRAIN Batch 000/391]\tTime 0.155s (0.155s)\tLoss 0.5758 (0.5758)\tPrec@1  80.5 ( 80.5)\tPrec@5 100.0 (100.0)\n",
            "[TRAIN Batch 200/391]\tTime 0.009s (0.019s)\tLoss 0.7079 (0.6717)\tPrec@1  75.8 ( 76.0)\tPrec@5  98.4 ( 98.7)\n",
            "\n",
            "===============> Total time 7s\tAvg loss 0.6981\tAvg Prec@1 75.29 %\tAvg Prec@5 98.58 %\n",
            "\n",
            "[EVAL Batch 000/079]\tTime 0.141s (0.141s)\tLoss 0.9247 (0.9247)\tPrec@1  74.2 ( 74.2)\tPrec@5  95.3 ( 95.3)\n",
            "\n",
            "===============> Total time 1s\tAvg loss 1.0197\tAvg Prec@1 66.86 %\tAvg Prec@5 96.60 %\n",
            "\n"
          ]
        },
        {
          "output_type": "display_data",
          "data": {
            "text/plain": [
              "<Figure size 432x288 with 2 Axes>"
            ],
            "image/png": "[encoded data removed]"
          },
          "metadata": {
            "needs_background": "light"
          }
        }
      ]
    },
    {
      "cell_type": "code",
      "source": [
        "model3ter = ConvNetReducedDropout()\n",
        "main(model3ter, batch_size=256, lr=0.2, epochs=20, cuda=True)"
      ],
      "metadata": {
        "colab": {
          "base_uri": "https://localhost:8080/",
          "height": 503
        },
        "id": "umJuQFx6C-1K",
        "outputId": "babe53c0-793e-4380-ffc4-333a9077dc91"
      },
      "execution_count": 34,
      "outputs": [
        {
          "output_type": "stream",
          "name": "stdout",
          "text": [
            "=================\n",
            "=== EPOCH 20 =====\n",
            "=================\n",
            "\n",
            "[TRAIN Batch 000/196]\tTime 0.207s (0.207s)\tLoss 0.8990 (0.8990)\tPrec@1  67.6 ( 67.6)\tPrec@5  97.3 ( 97.3)\n",
            "\n",
            "===============> Total time 6s\tAvg loss 0.8206\tAvg Prec@1 70.99 %\tAvg Prec@5 98.07 %\n",
            "\n",
            "[EVAL Batch 000/040]\tTime 0.182s (0.182s)\tLoss 1.0753 (1.0753)\tPrec@1  62.5 ( 62.5)\tPrec@5  96.5 ( 96.5)\n",
            "\n",
            "===============> Total time 1s\tAvg loss 1.1210\tAvg Prec@1 62.50 %\tAvg Prec@5 96.00 %\n",
            "\n"
          ]
        },
        {
          "output_type": "display_data",
          "data": {
            "text/plain": [
              "<Figure size 432x288 with 2 Axes>"
            ],
            "image/png": "[encoded data removed]"
          },
          "metadata": {
            "needs_background": "light"
          }
        }
      ]
    },
    {
      "cell_type": "code",
      "source": [
        "model3quater = ConvNetReducedDropout()\n",
        "main(model3quater, batch_size=350, lr=0.22, epochs=40, cuda=True)"
      ],
      "metadata": {
        "colab": {
          "base_uri": "https://localhost:8080/",
          "height": 104
        },
        "id": "BQqij5loDJ26",
        "outputId": "6b3057f3-1e77-48fd-d210-2f8f1db33dde"
      },
      "execution_count": null,
      "outputs": [
        {
          "output_type": "stream",
          "name": "stdout",
          "text": [
            "=================\n",
            "=== EPOCH 24 =====\n",
            "=================\n",
            "\n",
            "[TRAIN Batch 000/143]\tTime 0.234s (0.234s)\tLoss 0.7615 (0.7615)\tPrec@1  71.7 ( 71.7)\tPrec@5  98.9 ( 98.9)\n"
          ]
        }
      ]
    },
    {
      "cell_type": "markdown",
      "source": [
        "## Visualizing results\n",
        "\n",
        "We can now use our final model to predict new data."
      ],
      "metadata": {
        "id": "PeF5DnWnF8B2"
      }
    },
    {
      "cell_type": "markdown",
      "metadata": {
        "id": "RUq8Wk00ZGAK"
      },
      "source": [
        "## Conclusion\n",
        "\n",
        "CNNs are very performant for image based machine learning tasks when used properly."
      ]
    },
    {
      "cell_type": "code",
      "source": [],
      "metadata": {
        "id": "ODTnEUms-lDf"
      },
      "execution_count": null,
      "outputs": []
    },
    {
      "cell_type": "code",
      "execution_count": null,
      "metadata": {
        "id": "mjtKoGGTaTKa"
      },
      "outputs": [],
      "source": []
    }
  ],
  "metadata": {
    "accelerator": "GPU",
    "colab": {
      "collapsed_sections": [],
      "provenance": []
    },
    "gpuClass": "standard",
    "kernelspec": {
      "display_name": "Python 3",
      "name": "python3"
    },
    "language_info": {
      "name": "python"
    },
    "widgets": {
      "application/vnd.jupyter.widget-state+json": {
        "66d76bfd92ed4af4b9dd97a75178ca9f": {
          "model_module": "@jupyter-widgets/controls",
          "model_module_version": "1.5.0",
          "model_name": "DescriptionStyleModel",
          "state": {
            "_model_module": "@jupyter-widgets/controls",
            "_model_module_version": "1.5.0",
            "_model_name": "DescriptionStyleModel",
            "_view_count": null,
            "_view_module": "@jupyter-widgets/base",
            "_view_module_version": "1.2.0",
            "_view_name": "StyleView",
            "description_width": ""
          }
        },
        "796914f00022483ebea53ec66ff6a772": {
          "model_module": "@jupyter-widgets/controls",
          "model_module_version": "1.5.0",
          "model_name": "HBoxModel",
          "state": {
            "_dom_classes": [],
            "_model_module": "@jupyter-widgets/controls",
            "_model_module_version": "1.5.0",
            "_model_name": "HBoxModel",
            "_view_count": null,
            "_view_module": "@jupyter-widgets/controls",
            "_view_module_version": "1.5.0",
            "_view_name": "HBoxView",
            "box_style": "",
            "children": [
              "IPY_MODEL_b0fefee0854f4450b85e0b1229e5098e",
              "IPY_MODEL_9f81a3e15d494d8e8f4b80d195439d85",
              "IPY_MODEL_edf8f3970bdb4e2cbd902fa3513aadea"
            ],
            "layout": "IPY_MODEL_8c70e3b553bd42278f86e8f2d25e9869"
          }
        },
        "7ff2be8f19224ff59d3de4a08014b7b6": {
          "model_module": "@jupyter-widgets/base",
          "model_module_version": "1.2.0",
          "model_name": "LayoutModel",
          "state": {
            "_model_module": "@jupyter-widgets/base",
            "_model_module_version": "1.2.0",
            "_model_name": "LayoutModel",
            "_view_count": null,
            "_view_module": "@jupyter-widgets/base",
            "_view_module_version": "1.2.0",
            "_view_name": "LayoutView",
            "align_content": null,
            "align_items": null,
            "align_self": null,
            "border": null,
            "bottom": null,
            "display": null,
            "flex": null,
            "flex_flow": null,
            "grid_area": null,
            "grid_auto_columns": null,
            "grid_auto_flow": null,
            "grid_auto_rows": null,
            "grid_column": null,
            "grid_gap": null,
            "grid_row": null,
            "grid_template_areas": null,
            "grid_template_columns": null,
            "grid_template_rows": null,
            "height": null,
            "justify_content": null,
            "justify_items": null,
            "left": null,
            "margin": null,
            "max_height": null,
            "max_width": null,
            "min_height": null,
            "min_width": null,
            "object_fit": null,
            "object_position": null,
            "order": null,
            "overflow": null,
            "overflow_x": null,
            "overflow_y": null,
            "padding": null,
            "right": null,
            "top": null,
            "visibility": null,
            "width": null
          }
        },
        "846d1f061f91422fbf975e9ce385954b": {
          "model_module": "@jupyter-widgets/base",
          "model_module_version": "1.2.0",
          "model_name": "LayoutModel",
          "state": {
            "_model_module": "@jupyter-widgets/base",
            "_model_module_version": "1.2.0",
            "_model_name": "LayoutModel",
            "_view_count": null,
            "_view_module": "@jupyter-widgets/base",
            "_view_module_version": "1.2.0",
            "_view_name": "LayoutView",
            "align_content": null,
            "align_items": null,
            "align_self": null,
            "border": null,
            "bottom": null,
            "display": null,
            "flex": null,
            "flex_flow": null,
            "grid_area": null,
            "grid_auto_columns": null,
            "grid_auto_flow": null,
            "grid_auto_rows": null,
            "grid_column": null,
            "grid_gap": null,
            "grid_row": null,
            "grid_template_areas": null,
            "grid_template_columns": null,
            "grid_template_rows": null,
            "height": null,
            "justify_content": null,
            "justify_items": null,
            "left": null,
            "margin": null,
            "max_height": null,
            "max_width": null,
            "min_height": null,
            "min_width": null,
            "object_fit": null,
            "object_position": null,
            "order": null,
            "overflow": null,
            "overflow_x": null,
            "overflow_y": null,
            "padding": null,
            "right": null,
            "top": null,
            "visibility": null,
            "width": null
          }
        },
        "8c70e3b553bd42278f86e8f2d25e9869": {
          "model_module": "@jupyter-widgets/base",
          "model_module_version": "1.2.0",
          "model_name": "LayoutModel",
          "state": {
            "_model_module": "@jupyter-widgets/base",
            "_model_module_version": "1.2.0",
            "_model_name": "LayoutModel",
            "_view_count": null,
            "_view_module": "@jupyter-widgets/base",
            "_view_module_version": "1.2.0",
            "_view_name": "LayoutView",
            "align_content": null,
            "align_items": null,
            "align_self": null,
            "border": null,
            "bottom": null,
            "display": null,
            "flex": null,
            "flex_flow": null,
            "grid_area": null,
            "grid_auto_columns": null,
            "grid_auto_flow": null,
            "grid_auto_rows": null,
            "grid_column": null,
            "grid_gap": null,
            "grid_row": null,
            "grid_template_areas": null,
            "grid_template_columns": null,
            "grid_template_rows": null,
            "height": null,
            "justify_content": null,
            "justify_items": null,
            "left": null,
            "margin": null,
            "max_height": null,
            "max_width": null,
            "min_height": null,
            "min_width": null,
            "object_fit": null,
            "object_position": null,
            "order": null,
            "overflow": null,
            "overflow_x": null,
            "overflow_y": null,
            "padding": null,
            "right": null,
            "top": null,
            "visibility": null,
            "width": null
          }
        },
        "9f81a3e15d494d8e8f4b80d195439d85": {
          "model_module": "@jupyter-widgets/controls",
          "model_module_version": "1.5.0",
          "model_name": "FloatProgressModel",
          "state": {
            "_dom_classes": [],
            "_model_module": "@jupyter-widgets/controls",
            "_model_module_version": "1.5.0",
            "_model_name": "FloatProgressModel",
            "_view_count": null,
            "_view_module": "@jupyter-widgets/controls",
            "_view_module_version": "1.5.0",
            "_view_name": "ProgressView",
            "bar_style": "success",
            "description": "",
            "description_tooltip": null,
            "layout": "IPY_MODEL_7ff2be8f19224ff59d3de4a08014b7b6",
            "max": 170498071,
            "min": 0,
            "orientation": "horizontal",
            "style": "IPY_MODEL_c3220ea6a2b04838997c220aafeb3f1a",
            "value": 170498071
          }
        },
        "aebd821a2ea14382885844d539e0f746": {
          "model_module": "@jupyter-widgets/base",
          "model_module_version": "1.2.0",
          "model_name": "LayoutModel",
          "state": {
            "_model_module": "@jupyter-widgets/base",
            "_model_module_version": "1.2.0",
            "_model_name": "LayoutModel",
            "_view_count": null,
            "_view_module": "@jupyter-widgets/base",
            "_view_module_version": "1.2.0",
            "_view_name": "LayoutView",
            "align_content": null,
            "align_items": null,
            "align_self": null,
            "border": null,
            "bottom": null,
            "display": null,
            "flex": null,
            "flex_flow": null,
            "grid_area": null,
            "grid_auto_columns": null,
            "grid_auto_flow": null,
            "grid_auto_rows": null,
            "grid_column": null,
            "grid_gap": null,
            "grid_row": null,
            "grid_template_areas": null,
            "grid_template_columns": null,
            "grid_template_rows": null,
            "height": null,
            "justify_content": null,
            "justify_items": null,
            "left": null,
            "margin": null,
            "max_height": null,
            "max_width": null,
            "min_height": null,
            "min_width": null,
            "object_fit": null,
            "object_position": null,
            "order": null,
            "overflow": null,
            "overflow_x": null,
            "overflow_y": null,
            "padding": null,
            "right": null,
            "top": null,
            "visibility": null,
            "width": null
          }
        },
        "b0fefee0854f4450b85e0b1229e5098e": {
          "model_module": "@jupyter-widgets/controls",
          "model_module_version": "1.5.0",
          "model_name": "HTMLModel",
          "state": {
            "_dom_classes": [],
            "_model_module": "@jupyter-widgets/controls",
            "_model_module_version": "1.5.0",
            "_model_name": "HTMLModel",
            "_view_count": null,
            "_view_module": "@jupyter-widgets/controls",
            "_view_module_version": "1.5.0",
            "_view_name": "HTMLView",
            "description": "",
            "description_tooltip": null,
            "layout": "IPY_MODEL_aebd821a2ea14382885844d539e0f746",
            "placeholder": "​",
            "style": "IPY_MODEL_66d76bfd92ed4af4b9dd97a75178ca9f",
            "value": "100%"
          }
        },
        "c3220ea6a2b04838997c220aafeb3f1a": {
          "model_module": "@jupyter-widgets/controls",
          "model_module_version": "1.5.0",
          "model_name": "ProgressStyleModel",
          "state": {
            "_model_module": "@jupyter-widgets/controls",
            "_model_module_version": "1.5.0",
            "_model_name": "ProgressStyleModel",
            "_view_count": null,
            "_view_module": "@jupyter-widgets/base",
            "_view_module_version": "1.2.0",
            "_view_name": "StyleView",
            "bar_color": null,
            "description_width": ""
          }
        },
        "d4134fa9fb1944848086c2aa5c04148a": {
          "model_module": "@jupyter-widgets/controls",
          "model_module_version": "1.5.0",
          "model_name": "DescriptionStyleModel",
          "state": {
            "_model_module": "@jupyter-widgets/controls",
            "_model_module_version": "1.5.0",
            "_model_name": "DescriptionStyleModel",
            "_view_count": null,
            "_view_module": "@jupyter-widgets/base",
            "_view_module_version": "1.2.0",
            "_view_name": "StyleView",
            "description_width": ""
          }
        },
        "edf8f3970bdb4e2cbd902fa3513aadea": {
          "model_module": "@jupyter-widgets/controls",
          "model_module_version": "1.5.0",
          "model_name": "HTMLModel",
          "state": {
            "_dom_classes": [],
            "_model_module": "@jupyter-widgets/controls",
            "_model_module_version": "1.5.0",
            "_model_name": "HTMLModel",
            "_view_count": null,
            "_view_module": "@jupyter-widgets/controls",
            "_view_module_version": "1.5.0",
            "_view_name": "HTMLView",
            "description": "",
            "description_tooltip": null,
            "layout": "IPY_MODEL_846d1f061f91422fbf975e9ce385954b",
            "placeholder": "​",
            "style": "IPY_MODEL_d4134fa9fb1944848086c2aa5c04148a",
            "value": " 170498071/170498071 [00:13&lt;00:00, 14046719.97it/s]"
          }
        }
      }
    }
  },
  "nbformat": 4,
  "nbformat_minor": 0
}