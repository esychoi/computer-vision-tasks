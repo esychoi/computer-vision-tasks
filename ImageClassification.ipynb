{
  "cells": [
    {
      "cell_type": "markdown",
      "metadata": {
        "id": "TRuKJ3fbUVge"
      },
      "source": [
        "# Image classification using CNN\n",
        "\n",
        "**Esther SunYoung CHOI**\n",
        "\n",
        "Image classification is a fundamental task in Computer Vision that consists of assigning a specific label to an image.\n",
        "\n",
        "The goal of this project is to implement a Convolutional Neural Network (CNN) to perform image classification using PyTorch.\n",
        "\n",
        "\n",
        "## Table of Contents\n",
        "1. [Intro to CNN](#intro)\n",
        "1. [Importing modules](#modules)\n",
        "1. [Exploring the data](#explore)\n",
        "1. [Building a model](#build)\n",
        "1. [Training the model](#train)\n",
        "1. [Improving our first model](#improve)\n",
        "1. [Visualizing results](#results)\n",
        "1. [Conclusion](#ccl)"
      ]
    },
    {
      "cell_type": "markdown",
      "metadata": {
        "id": "vGUmB-J8Yqiu"
      },
      "source": [
        "<a name=\"intro\"></a>\n",
        "## Intro to CNN\n",
        "\n",
        "Convolutional Neural Networks have become the state-of-the-art architecture in almost all Machine Learning tasks applied to images. They differ from traditional neural networks by the types of layers they use : convolutional layers and pooling layers.\n",
        "\n",
        "### Convolutional layers\n",
        "\n",
        "Convolutional layers perform a convolution operation between the input data and a feature detector, called kernel or filter. The filter is a small matrix that we pass over each pixel of the input image and allows the detection of features such as straight lines, edges or circles.\n",
        "\n",
        "It is usually followed by an activation layer.\n",
        "\n",
        "### Pooling layers\n",
        "\n",
        "Pooling layers aggregate the values of the ouput tensor of convolutional layers to reduce its dimensions and amplify the extracted feature.\n",
        "\n",
        "Common pooling functions include max pooling and average pooling that takes respectively the maximum and average value of a small aggregate of pixels.\n",
        "\n",
        "### Fully connected layers\n",
        "\n",
        "Fully connected layers are nothing more than a classic neural network where all neurons are connected to all neurons of the next layer, hence the name.\n",
        "\n",
        "**CNNs thus consist of two main parts : a convolutional/pooling part that breaks down the image into features and a fully connected neural network to take the final decision.**"
      ]
    },
    {
      "cell_type": "markdown",
      "metadata": {
        "id": "bOQFa8rmmIV5"
      },
      "source": [
        "<a name=\"modules\"></a>\n",
        "## Importing all useful modules"
      ]
    },
    {
      "cell_type": "code",
      "execution_count": 1,
      "metadata": {
        "id": "E3y5vvx2mNw9"
      },
      "outputs": [],
      "source": [
        "import time\n",
        "import random\n",
        "\n",
        "from google.colab import output\n",
        "\n",
        "import matplotlib.pyplot as plt\n",
        "import numpy as np\n",
        "\n",
        "import torch\n",
        "import torch.nn as nn\n",
        "import torch.nn.parallel\n",
        "import torch.backends.cudnn as cudnn\n",
        "import torch.optim\n",
        "import torch.utils.data\n",
        "import torchvision\n",
        "import torchvision.transforms as transforms\n",
        "import torchvision.datasets as datasets\n",
        "\n",
        "from torchsummary import summary\n",
        "\n",
        "from sklearn.metrics import confusion_matrix, classification_report, ConfusionMatrixDisplay"
      ]
    },
    {
      "cell_type": "markdown",
      "metadata": {
        "id": "1NOvX3LMYuw1"
      },
      "source": [
        "<a name=\"explore\"></a>\n",
        "## Exploring the data\n",
        "\n",
        "We will be using the [CIFAR-10 database](https://www.cs.toronto.edu/~kriz/cifar.html) that contains 10 classes of 32x32 RGB images, 50k in train and 10k in test."
      ]
    },
    {
      "cell_type": "code",
      "execution_count": 2,
      "metadata": {
        "id": "Fkfx1d4jY0nU"
      },
      "outputs": [],
      "source": [
        "def get_dataset(batch_size, cuda=False):\n",
        "    \"\"\"\n",
        "    Loads the CIFAR-10 dataset and performs transformations on each\n",
        "    image (listed in `transform = ...`).\n",
        "    \"\"\"\n",
        "    trainset = datasets.CIFAR10(root='./data', train=True, download=True,\n",
        "        transform=transforms.Compose([\n",
        "            transforms.ToTensor()\n",
        "        ]))\n",
        "    testset = datasets.CIFAR10(root='./data', train=False, download=True,\n",
        "        transform=transforms.Compose([\n",
        "            transforms.ToTensor()\n",
        "        ]))\n",
        "\n",
        "    train_loader = torch.utils.data.DataLoader(trainset,\n",
        "                        batch_size=batch_size, shuffle=True, pin_memory=cuda, num_workers=2)\n",
        "    val_loader = torch.utils.data.DataLoader(testset,\n",
        "                        batch_size=batch_size, shuffle=False, pin_memory=cuda, num_workers=2)\n",
        "\n",
        "    return train_loader, val_loader"
      ]
    },
    {
      "cell_type": "code",
      "execution_count": 3,
      "metadata": {
        "id": "o8TsjLQWoBhk"
      },
      "outputs": [],
      "source": [
        "BATCH_SIZE = 128\n",
        "PRINT_INTERVAL = 200\n",
        "CUDA = True    # True if available GPU, False otherwise\n",
        "device = torch.device(\"cuda\" if torch.cuda.is_available() else \"cpu\")"
      ]
    },
    {
      "cell_type": "markdown",
      "metadata": {
        "id": "XXxK-_30o5eS"
      },
      "source": [
        "Let's display a few images."
      ]
    },
    {
      "cell_type": "code",
      "execution_count": 4,
      "metadata": {
        "colab": {
          "base_uri": "https://localhost:8080/",
          "height": 231,
          "referenced_widgets": [
            "3fe5682580754a1cb335abb4f5239178",
            "8ff1ad6bb1aa442d9fb1aa04e59304da",
            "2b34b78bfa9d4791882f1ac6a1986b37",
            "8c3dbfbd5a50411c97e5146f4a193317",
            "d8ac0fe4d7d843a8a987f44f0f402120",
            "6b645563a8594c448171771581c7238f",
            "ca1b3d1cd2b2480e9c228ba967cf72aa",
            "a163bee7839e45c2a751e6e2cba2629a",
            "4372532c714e4416a01ceaec31f05b18",
            "0499a4533f954306a0dab9db47fee709",
            "7f8179453a994fc4b2ab48de59067744"
          ]
        },
        "id": "MB0F3Dk2o89V",
        "outputId": "36d8a992-04c8-492c-92a5-a159e8d282a8"
      },
      "outputs": [
        {
          "output_type": "stream",
          "name": "stdout",
          "text": [
            "Downloading https://www.cs.toronto.edu/~kriz/cifar-10-python.tar.gz to ./data/cifar-10-python.tar.gz\n"
          ]
        },
        {
          "output_type": "display_data",
          "data": {
            "text/plain": [
              "  0%|          | 0/170498071 [00:00<?, ?it/s]"
            ],
            "application/vnd.jupyter.widget-view+json": {
              "version_major": 2,
              "version_minor": 0,
              "model_id": "3fe5682580754a1cb335abb4f5239178"
            }
          },
          "metadata": {}
        },
        {
          "output_type": "stream",
          "name": "stdout",
          "text": [
            "Extracting ./data/cifar-10-python.tar.gz to ./data\n",
            "Files already downloaded and verified\n"
          ]
        },
        {
          "output_type": "display_data",
          "data": {
            "text/plain": [
              "<Figure size 720x288 with 5 Axes>"
            ],
            "image/png": "[encoded data removed]"
          },
          "metadata": {
            "needs_background": "light"
          }
        }
      ],
      "source": [
        "train, test = get_dataset(batch_size=BATCH_SIZE,cuda=CUDA)\n",
        "\n",
        "classes = ['plane', 'car', 'bird', 'cat', 'deer', 'dog', 'frog', 'horse', 'ship', 'truck']\n",
        "\n",
        "train_features, train_labels = next(iter(train))    \n",
        "\n",
        "plt.figure(figsize=(10, 4))\n",
        "for i in range(5):\n",
        "    ax = plt.subplot(1,5,i+1)\n",
        "    num = random.randint(0, train_features.shape[0])\n",
        "    img = train_features[num].numpy().transpose((1,2,0))\n",
        "    plt.imshow(img)\n",
        "    plt.title(\"{}\".format(classes[train_labels[num]]))\n",
        "    ax.get_xaxis().set_visible(False)\n",
        "    ax.get_yaxis().set_visible(False)\n",
        "    \n",
        "plt.show()"
      ]
    },
    {
      "cell_type": "markdown",
      "metadata": {
        "id": "Vet78qxXY1fx"
      },
      "source": [
        "<a name=\"build\"></a>\n",
        "## Building a model\n",
        "\n",
        "In this paragraph, we will note $D$ the number of channels, $k$ the width of the filter (and its height as we will use square filters), $p$ the padding and $s$ the stride.\n",
        "\n",
        "The first model we are going to build will be composed of the following layers :\n",
        "- `conv1` : convolution layer with $D=32, k=5, p=2, s=1$ and ReLU activation\n",
        "- `pool1` : max-pooling with window of size 2x2, $p=0, s=2$\n",
        "- `conv2` : convolution layer with $D=64, k=5, p=2, s=1$ and ReLU activation\n",
        "- `pool2` : max-pooling with window of size 2x2, $p=0, s=2$\n",
        "- `conv3` : convolution layer with $D=64, k=5, p=2, s=1$ and ReLU activation\n",
        "- `pool3` : max-pooling with window of size 2x2, $p=0, s=2$\n",
        "- `fc4` : fully-connected layer with 1000 output neurons, with ReLU activation\n",
        "- `fc5` : fully-connected layer with 10 output neurons, with softmax activation\n",
        "\n",
        "The values of padding and stride are chosen so that the output of convolution layers have the same spatial dimensions as the input, and so that pooling layers divide spatial dimensions by 2."
      ]
    },
    {
      "cell_type": "code",
      "execution_count": null,
      "metadata": {
        "id": "Rg2yuLGRY4EJ"
      },
      "outputs": [],
      "source": [
        "class ConvNet(nn.Module):\n",
        "    \"\"\"\n",
        "    This class defines the structure of the neural network\n",
        "    \"\"\"\n",
        "\n",
        "    def __init__(self):\n",
        "        super(ConvNet, self).__init__()\n",
        "\n",
        "        # Defining the convolution and pooling layers as a feature extractors\n",
        "        self.features = nn.Sequential(\n",
        "            nn.Conv2d(3, 32, (5, 5), stride=1, padding=2),              # conv1\n",
        "            nn.ReLU(),\n",
        "            nn.MaxPool2d((2, 2), stride=2, padding=0),                  # pool1\n",
        "            nn.Conv2d(32, 64, (5, 5), stride=1, padding=2),             # conv2\n",
        "            nn.ReLU(),\n",
        "            nn.MaxPool2d((2, 2), stride=2, padding=0),                  # pool2\n",
        "            nn.Conv2d(64, 64, (5, 5), stride=1, padding=2),             # conv3\n",
        "            nn.ReLU(),\n",
        "            nn.MaxPool2d((2, 2), stride=2, padding=0, ceil_mode = True) # pool3\n",
        "        )\n",
        "        # We then define fully connected layers as a classifier\n",
        "        self.classifier = nn.Sequential(\n",
        "            nn.Linear(1024, 1000),  # fc4\n",
        "            nn.ReLU(),\n",
        "            nn.Linear(1000, 10)     # fc5\n",
        "            ## The softmax output is included in the cross entropy loss function\n",
        "        )\n",
        "\n",
        "    # Method called when we apply the network to an input batch\n",
        "    def forward(self, input):\n",
        "        bsize = input.size(0) # batch size\n",
        "        output = self.features(input) # output of the convolution layers\n",
        "        output = output.view(bsize, -1) # we flatten the 2D feature maps into one 1D vector for each input\n",
        "        output = self.classifier(output) # we compute the output of the fc layers\n",
        "        return output"
      ]
    },
    {
      "cell_type": "code",
      "execution_count": null,
      "metadata": {
        "id": "47lxi9Vx8XN9",
        "colab": {
          "base_uri": "https://localhost:8080/"
        },
        "outputId": "0baa7a1a-2174-4b10-d9e3-58333381b9d8"
      },
      "outputs": [
        {
          "output_type": "stream",
          "name": "stdout",
          "text": [
            "----------------------------------------------------------------\n",
            "        Layer (type)               Output Shape         Param #\n",
            "================================================================\n",
            "            Conv2d-1           [-1, 32, 32, 32]           2,432\n",
            "              ReLU-2           [-1, 32, 32, 32]               0\n",
            "         MaxPool2d-3           [-1, 32, 16, 16]               0\n",
            "            Conv2d-4           [-1, 64, 16, 16]          51,264\n",
            "              ReLU-5           [-1, 64, 16, 16]               0\n",
            "         MaxPool2d-6             [-1, 64, 8, 8]               0\n",
            "            Conv2d-7             [-1, 64, 8, 8]         102,464\n",
            "              ReLU-8             [-1, 64, 8, 8]               0\n",
            "         MaxPool2d-9             [-1, 64, 4, 4]               0\n",
            "           Linear-10                 [-1, 1000]       1,025,000\n",
            "             ReLU-11                 [-1, 1000]               0\n",
            "           Linear-12                   [-1, 10]          10,010\n",
            "================================================================\n",
            "Total params: 1,191,170\n",
            "Trainable params: 1,191,170\n",
            "Non-trainable params: 0\n",
            "----------------------------------------------------------------\n",
            "Input size (MB): 0.01\n",
            "Forward/backward pass size (MB): 0.93\n",
            "Params size (MB): 4.54\n",
            "Estimated Total Size (MB): 5.49\n",
            "----------------------------------------------------------------\n"
          ]
        }
      ],
      "source": [
        "model = ConvNet()\n",
        "summary(model.to(device),(3,32,32))"
      ]
    },
    {
      "cell_type": "markdown",
      "source": [
        "There are 1,191,170 parameters in total. Considering that there are only 50k training samples, there is a high risk of overfitting."
      ],
      "metadata": {
        "id": "FJeHMwC6kls6"
      }
    },
    {
      "cell_type": "markdown",
      "metadata": {
        "id": "AYHFD7efY43O"
      },
      "source": [
        "<a name=\"train\"></a>\n",
        "## Training the model\n",
        "\n",
        "Next step is to train the model we have just built.\n",
        "\n",
        "To do so, we will use the cross-entropy as loss function, with the Adam optimizer."
      ]
    },
    {
      "cell_type": "markdown",
      "metadata": {
        "id": "QKV1nyJiDzs_"
      },
      "source": [
        "The following cell contains an accuracy function to compute the precision@k metric and classes to plot accuracy and losses."
      ]
    },
    {
      "cell_type": "code",
      "execution_count": 5,
      "metadata": {
        "id": "M0cILjReDsVC"
      },
      "outputs": [],
      "source": [
        "def accuracy(output, target, topk=(1,)):\n",
        "    \"\"\"Computes the precision@k for the specified values of k\"\"\"\n",
        "    maxk = max(topk)\n",
        "    batch_size = target.size(0)\n",
        "\n",
        "    _, pred = output.topk(maxk, 1, True, True)\n",
        "    pred = pred.t()\n",
        "    correct = pred.eq(target.view(1, -1).expand_as(pred))\n",
        "\n",
        "    res = []\n",
        "    for k in topk:\n",
        "        correct_k = correct[:k].reshape(-1).float().sum(0, keepdim=True)\n",
        "        res.append(correct_k.mul_(100.0 / batch_size))\n",
        "    return res\n",
        "\n",
        "class AverageMeter(object):\n",
        "    \"\"\"Computes and stores the average and current value\"\"\"\n",
        "    def __init__(self, keep_all=False):\n",
        "        self.reset()\n",
        "        self.data = None\n",
        "        if keep_all:\n",
        "            self.data = []\n",
        "\n",
        "    def reset(self):\n",
        "        self.val = 0\n",
        "        self.avg = 0\n",
        "        self.sum = 0\n",
        "        self.count = 0\n",
        "\n",
        "    def update(self, val, n=1):\n",
        "        if self.data is not None:\n",
        "            self.data.append(val)\n",
        "        self.val = val\n",
        "        self.sum += val * n\n",
        "        self.count += n\n",
        "        self.avg = self.sum / self.count\n",
        "\n",
        "class TrainLossPlot(object):\n",
        "    def __init__(self):\n",
        "        self.loss_train = []\n",
        "        self.fig = plt.figure()\n",
        "\n",
        "    def update(self, loss_train):\n",
        "        self.loss_train.append(loss_train)\n",
        "\n",
        "class AccLossPlot(object):\n",
        "    def __init__(self):\n",
        "        self.loss_train = []\n",
        "        self.loss_test = []\n",
        "        self.acc_train = []\n",
        "        self.acc_test = []\n",
        "        self.fig = plt.figure()\n",
        "\n",
        "    def update(self, loss_train, loss_test, acc_train, acc_test):\n",
        "        self.loss_train.append(loss_train)\n",
        "        self.loss_test.append(loss_test)\n",
        "        self.acc_train.append(acc_train)\n",
        "        self.acc_test.append(acc_test)\n",
        "        plt.figure(self.fig.number)\n",
        "        plt.clf()\n",
        "        plt.subplot(1,2,1)\n",
        "        plt.plot(np.array(self.acc_train), label=\"acc. train\")\n",
        "        plt.plot(np.array(self.acc_test), label=\"acc. test\")\n",
        "        plt.title(\"Accuracy / epoch\")\n",
        "        plt.xlabel(\"Epoch\")\n",
        "        plt.ylabel(\"Accuracy\")\n",
        "        plt.legend()\n",
        "        plt.subplot(1,2,2)\n",
        "        plt.plot(np.array(self.loss_train), label=\"loss train\")\n",
        "        plt.plot(np.array(self.loss_test), label=\"loss test\")\n",
        "        plt.title(\"Loss / epoch\")\n",
        "        plt.xlabel(\"Epoch\")\n",
        "        plt.ylabel(\"Loss\")\n",
        "        plt.legend()\n",
        "        plt.show()\n",
        "        plt.draw_all()\n",
        "        plt.pause(1e-3)"
      ]
    },
    {
      "cell_type": "markdown",
      "metadata": {
        "id": "4gZT3Tw68-Uj"
      },
      "source": [
        "The following cell contains the code to perform a training epoch. At the end of each batch training, we print the loss and the accuracy and their average in brackets."
      ]
    },
    {
      "cell_type": "code",
      "execution_count": 6,
      "metadata": {
        "id": "RVA5K30S_1Xl"
      },
      "outputs": [],
      "source": [
        "def epoch(data, model, criterion,optimizer=None, cuda=False):\n",
        "    \"\"\"\n",
        "    Make an epoch on the data `data` with the\n",
        "     model `model`. Evaluates `criterion` as loss.\n",
        "     If `optimizer` is given, perform a training epoch using\n",
        "     the given optimizer, otherwise, perform an evaluation epoch (no backward)\n",
        "     of the model.\n",
        "    \"\"\"\n",
        "\n",
        "    # indicates whether the model is in eval or train mode (some layers behave differently in train and eval)\n",
        "    model.eval() if optimizer is None else model.train()\n",
        "\n",
        "    # objects to store metric averages\n",
        "    avg_loss = AverageMeter()\n",
        "    avg_top1_acc = AverageMeter()\n",
        "    avg_top5_acc = AverageMeter()\n",
        "    avg_batch_time = AverageMeter()\n",
        "    global loss_plot\n",
        "\n",
        "    # we iterate on the batches\n",
        "    tic = time.time()\n",
        "    for i, (input, target) in enumerate(data):\n",
        "\n",
        "        if cuda: # only with GPU, and not with CPU\n",
        "            input = input.cuda()\n",
        "            target = target.cuda()\n",
        "\n",
        "        # forward\n",
        "        output = model(input)\n",
        "        loss = criterion(output, target)\n",
        "\n",
        "        # backward if we are training\n",
        "        if optimizer:\n",
        "            optimizer.zero_grad()\n",
        "            loss.backward()\n",
        "            optimizer.step()\n",
        "\n",
        "        # compute metrics\n",
        "        prec1, prec5 = accuracy(output, target, topk=(1, 5))\n",
        "        batch_time = time.time() - tic\n",
        "        tic = time.time()\n",
        "\n",
        "        # update\n",
        "        avg_loss.update(loss.item())\n",
        "        avg_top1_acc.update(prec1.item())\n",
        "        avg_top5_acc.update(prec5.item())\n",
        "        avg_batch_time.update(batch_time)\n",
        "        if optimizer:\n",
        "            loss_plot.update(avg_loss.val)\n",
        "\n",
        "        if True: \n",
        "          if i % PRINT_INTERVAL == 0:\n",
        "              print('[{0:s} Batch {1:03d}/{2:03d}]\\t'\n",
        "                    'Time {batch_time.val:.3f}s ({batch_time.avg:.3f}s)\\t'\n",
        "                    'Loss {loss.val:.4f} ({loss.avg:.4f})\\t'\n",
        "                    'Prec@1 {top1.val:5.1f} ({top1.avg:5.1f})\\t'\n",
        "                    'Prec@5 {top5.val:5.1f} ({top5.avg:5.1f})'.format(\n",
        "                    \"EVAL\" if optimizer is None else \"TRAIN\", i, len(data), batch_time=avg_batch_time, loss=avg_loss,\n",
        "                    top1=avg_top1_acc, top5=avg_top5_acc))\n",
        "\n",
        "    # Print summary\n",
        "    if True: \n",
        "      print('\\n===============> Total time {batch_time:d}s\\t'\n",
        "            'Avg loss {loss.avg:.4f}\\t'\n",
        "            'Avg Prec@1 {top1.avg:5.2f} %\\t'\n",
        "            'Avg Prec@5 {top5.avg:5.2f} %\\n'.format(\n",
        "            batch_time=int(avg_batch_time.sum), loss=avg_loss,\n",
        "            top1=avg_top1_acc, top5=avg_top5_acc))\n",
        "\n",
        "    return avg_top1_acc, avg_top5_acc, avg_loss\n"
      ]
    },
    {
      "cell_type": "markdown",
      "source": [
        "The `main` function loads the CIFAR-10 dataset, and runs the training process with the settings given by the arguments (batch size, number of epochs, learning rate if needed by the optimizer and the presence of GPUs). We will use the Adam optimizer for a faster training."
      ],
      "metadata": {
        "id": "A-ips-wsgwoE"
      }
    },
    {
      "cell_type": "code",
      "execution_count": 7,
      "metadata": {
        "id": "6fvQuv-5cOS-"
      },
      "outputs": [],
      "source": [
        "def main(model, batch_size=128, lr=None, epochs=100, cuda=False):   \n",
        "    criterion = nn.CrossEntropyLoss()\n",
        "    #optimizer = torch.optim.SGD(model.parameters(), lr)\n",
        "    optimizer = torch.optim.Adam(model.parameters())\n",
        "\n",
        "    if cuda: # only with GPU, and not with CPU\n",
        "        cudnn.benchmark = True\n",
        "        model = model.cuda()\n",
        "        criterion = criterion.cuda()\n",
        "\n",
        "    # Get the data\n",
        "    train, test = get_dataset(batch_size, cuda)\n",
        "\n",
        "    # init plots\n",
        "    plot = AccLossPlot()\n",
        "    global loss_plot\n",
        "    loss_plot = TrainLossPlot()\n",
        "\n",
        "    # We iterate on the epochs\n",
        "    for i in range(epochs):\n",
        "        output.clear()\n",
        "\n",
        "        print(\"=================\\n=== EPOCH \"+str(i+1)+\" =====\\n=================\\n\")\n",
        "\n",
        "        # Train phase\n",
        "        top1_acc, avg_top5_acc, loss = epoch(train, model, criterion, optimizer, cuda)\n",
        "        # Test phase\n",
        "        top1_acc_test, top5_acc_test, loss_test = epoch(test, model, criterion, cuda=cuda)\n",
        "        # plot        \n",
        "        plot.update(loss.avg, loss_test.avg, top1_acc.avg, top1_acc_test.avg)"
      ]
    },
    {
      "cell_type": "markdown",
      "source": [
        "Let's train our first model."
      ],
      "metadata": {
        "id": "qZvHWs4Vhcoc"
      }
    },
    {
      "cell_type": "code",
      "execution_count": null,
      "metadata": {
        "colab": {
          "base_uri": "https://localhost:8080/",
          "height": 521
        },
        "id": "ici9ylyXceJv",
        "outputId": "e1b49270-89bd-444f-b03a-4b5d75986687"
      },
      "outputs": [
        {
          "output_type": "stream",
          "name": "stdout",
          "text": [
            "=================\n",
            "=== EPOCH 20 =====\n",
            "=================\n",
            "\n",
            "[TRAIN Batch 000/391]\tTime 0.142s (0.142s)\tLoss 0.0407 (0.0407)\tPrec@1  98.4 ( 98.4)\tPrec@5 100.0 (100.0)\n",
            "[TRAIN Batch 200/391]\tTime 0.007s (0.019s)\tLoss 0.0476 (0.0614)\tPrec@1  97.7 ( 97.9)\tPrec@5 100.0 (100.0)\n",
            "\n",
            "===============> Total time 7s\tAvg loss 0.0637\tAvg Prec@1 97.87 %\tAvg Prec@5 100.00 %\n",
            "\n",
            "[EVAL Batch 000/079]\tTime 0.134s (0.134s)\tLoss 1.6794 (1.6794)\tPrec@1  69.5 ( 69.5)\tPrec@5  95.3 ( 95.3)\n",
            "\n",
            "===============> Total time 1s\tAvg loss 1.7357\tAvg Prec@1 72.30 %\tAvg Prec@5 97.27 %\n",
            "\n"
          ]
        },
        {
          "output_type": "display_data",
          "data": {
            "text/plain": [
              "<Figure size 432x288 with 2 Axes>"
            ],
            "image/png": "[encoded data removed]"
          },
          "metadata": {
            "needs_background": "light"
          }
        }
      ],
      "source": [
        "model = ConvNet()\n",
        "main(model,batch_size=128, epochs=20, cuda=CUDA)"
      ]
    },
    {
      "cell_type": "markdown",
      "metadata": {
        "id": "rPrExgnGh52R"
      },
      "source": [
        "The test accuracy is around 70%, which seems not bad for a first model, but the train accuracy is nearly 98% and the test loss increasing after 5 to 8 epochs : there is clearly an overfitting issue, as we had expected.\n",
        "\n",
        "There exists several ways to handle overfitting including reducing the number of trainable parameters, adding Dropout layers and reducing the batch size."
      ]
    },
    {
      "cell_type": "markdown",
      "source": [
        "<a name=\"improve\"></a>\n",
        "## Improving our first model\n",
        "\n",
        "Dropout layers randomly remove certain features by setting them to 0 at each epoch. The model tries different combinations of neurons during and training and thus encourage the model to use all neurons individually (as their neighbors may be desactivated at any time).\n",
        "\n",
        "Below, we define another architecture using all these solutions."
      ],
      "metadata": {
        "id": "5ZDCeonDK9PZ"
      }
    },
    {
      "cell_type": "code",
      "source": [
        "class ConvNetReducedDropout(nn.Module):\n",
        "    \"\"\"\n",
        "    This class defines the structure of the neural network\n",
        "    \"\"\"\n",
        "\n",
        "    def __init__(self):\n",
        "        super(ConvNetReducedDropout, self).__init__()\n",
        "\n",
        "        # Defining the convolution and pooling layers as a feature extractors\n",
        "        self.features = nn.Sequential(\n",
        "            nn.Conv2d(3, 16, (5, 5), stride=1, padding=2),\n",
        "            nn.ReLU(),\n",
        "            nn.MaxPool2d((2, 2), stride=2, padding=0),\n",
        "            nn.Conv2d(16, 32, (5, 5), stride=1, padding=2),\n",
        "            nn.ReLU(),\n",
        "            nn.Dropout(p=0.4),\n",
        "            nn.MaxPool2d((2, 2), stride=2, padding=0),\n",
        "            nn.Conv2d(32, 32, (5, 5), stride=1, padding=2),\n",
        "            nn.ReLU(),\n",
        "            nn.MaxPool2d((2, 2), stride=2, padding=0, ceil_mode = True)\n",
        "        )\n",
        "        # We then define fully connected layers as a classifier\n",
        "        self.classifier = nn.Sequential(\n",
        "            nn.Linear(4*4*32, 256),\n",
        "            nn.ReLU(),\n",
        "            nn.Dropout(p=0.4),\n",
        "            nn.Linear(256, 10)\n",
        "        )\n",
        "\n",
        "    # Method called when we apply the network to an input batch\n",
        "    def forward(self, input):\n",
        "        bsize = input.size(0) # batch size\n",
        "        output = self.features(input) # output of the convolution layers\n",
        "        output = output.view(bsize, -1) # we flatten the 2D feature maps into one 1D vector for each input\n",
        "        output = self.classifier(output) # we compute the output of the fc layers\n",
        "        return output"
      ],
      "metadata": {
        "id": "LSt1ccwQ-O0F"
      },
      "execution_count": null,
      "outputs": []
    },
    {
      "cell_type": "code",
      "source": [
        "model2 = ConvNetReducedDropout()\n",
        "summary(model2.to(device),(3,32,32))"
      ],
      "metadata": {
        "id": "YWGLupO1oAez",
        "colab": {
          "base_uri": "https://localhost:8080/"
        },
        "outputId": "5b7cb725-d523-41e9-b5f0-1a59450eced0"
      },
      "execution_count": null,
      "outputs": [
        {
          "output_type": "stream",
          "name": "stdout",
          "text": [
            "----------------------------------------------------------------\n",
            "        Layer (type)               Output Shape         Param #\n",
            "================================================================\n",
            "            Conv2d-1           [-1, 16, 32, 32]           1,216\n",
            "              ReLU-2           [-1, 16, 32, 32]               0\n",
            "         MaxPool2d-3           [-1, 16, 16, 16]               0\n",
            "            Conv2d-4           [-1, 32, 16, 16]          12,832\n",
            "              ReLU-5           [-1, 32, 16, 16]               0\n",
            "           Dropout-6           [-1, 32, 16, 16]               0\n",
            "         MaxPool2d-7             [-1, 32, 8, 8]               0\n",
            "            Conv2d-8             [-1, 32, 8, 8]          25,632\n",
            "              ReLU-9             [-1, 32, 8, 8]               0\n",
            "        MaxPool2d-10             [-1, 32, 4, 4]               0\n",
            "           Linear-11                  [-1, 256]         131,328\n",
            "             ReLU-12                  [-1, 256]               0\n",
            "          Dropout-13                  [-1, 256]               0\n",
            "           Linear-14                   [-1, 10]           2,570\n",
            "================================================================\n",
            "Total params: 173,578\n",
            "Trainable params: 173,578\n",
            "Non-trainable params: 0\n",
            "----------------------------------------------------------------\n",
            "Input size (MB): 0.01\n",
            "Forward/backward pass size (MB): 0.53\n",
            "Params size (MB): 0.66\n",
            "Estimated Total Size (MB): 1.20\n",
            "----------------------------------------------------------------\n"
          ]
        }
      ]
    },
    {
      "cell_type": "markdown",
      "source": [
        "This model has about 10 times less parameters than our first model."
      ],
      "metadata": {
        "id": "HvdqSBhqoHE_"
      }
    },
    {
      "cell_type": "code",
      "source": [
        "main(model2, batch_size=64, epochs=20, cuda=CUDA)"
      ],
      "metadata": {
        "colab": {
          "base_uri": "https://localhost:8080/",
          "height": 556
        },
        "id": "AIINqDcARm0t",
        "outputId": "3314666c-e0f0-42ae-9fbc-d96ad9456460"
      },
      "execution_count": null,
      "outputs": [
        {
          "output_type": "stream",
          "name": "stdout",
          "text": [
            "=================\n",
            "=== EPOCH 20 =====\n",
            "=================\n",
            "\n",
            "[TRAIN Batch 000/782]\tTime 0.131s (0.131s)\tLoss 0.6421 (0.6421)\tPrec@1  70.3 ( 70.3)\tPrec@5  96.9 ( 96.9)\n",
            "[TRAIN Batch 200/782]\tTime 0.012s (0.013s)\tLoss 0.5034 (0.6443)\tPrec@1  84.4 ( 76.9)\tPrec@5 100.0 ( 98.8)\n",
            "[TRAIN Batch 400/782]\tTime 0.010s (0.013s)\tLoss 0.6882 (0.6567)\tPrec@1  73.4 ( 76.6)\tPrec@5 100.0 ( 98.8)\n",
            "[TRAIN Batch 600/782]\tTime 0.006s (0.013s)\tLoss 0.7397 (0.6623)\tPrec@1  76.6 ( 76.4)\tPrec@5 100.0 ( 98.7)\n",
            "\n",
            "===============> Total time 9s\tAvg loss 0.6726\tAvg Prec@1 76.07 %\tAvg Prec@5 98.68 %\n",
            "\n",
            "[EVAL Batch 000/157]\tTime 0.122s (0.122s)\tLoss 0.7481 (0.7481)\tPrec@1  73.4 ( 73.4)\tPrec@5  95.3 ( 95.3)\n",
            "\n",
            "===============> Total time 1s\tAvg loss 0.8179\tAvg Prec@1 71.40 %\tAvg Prec@5 97.68 %\n",
            "\n"
          ]
        },
        {
          "output_type": "display_data",
          "data": {
            "text/plain": [
              "<Figure size 432x288 with 2 Axes>"
            ],
            "image/png": "[encoded data removed]"
          },
          "metadata": {
            "needs_background": "light"
          }
        }
      ]
    },
    {
      "cell_type": "markdown",
      "source": [
        "Both train and test loss continue decreasing, and the train accuracy isn't as high as before : we have avoided overfitting. However, test accuracy didn't improve significantly and probably won't even if we train our model longer.\n",
        "\n",
        "On Kaggle we can find better models that reach more than 80% of accuracy. It is the case of [this Kaggle notebook](https://www.kaggle.com/code/ektasharma/simple-cifar10-cnn-keras-code-with-88-accuracy/notebook), reimplemented below."
      ],
      "metadata": {
        "id": "lc2ZG8KBivbE"
      }
    },
    {
      "cell_type": "code",
      "source": [
        "class ConvNet2(nn.Module):\n",
        "    \"\"\"\n",
        "    This class defines the structure of the neural network\n",
        "    \"\"\"\n",
        "\n",
        "    def __init__(self):\n",
        "        super(ConvNet2, self).__init__()\n",
        "\n",
        "        # Defining the convolution and pooling layers as a feature extractors\n",
        "        self.features = nn.Sequential(\n",
        "            nn.Conv2d(3, 32, kernel_size=3, stride=1, padding=1),\n",
        "            nn.ReLU(),\n",
        "            nn.BatchNorm2d(32),\n",
        "            nn.Conv2d(32, 32, kernel_size=3, stride=1, padding=1),\n",
        "            nn.ReLU(),\n",
        "            nn.BatchNorm2d(32),\n",
        "            nn.MaxPool2d((2, 2), stride=2, padding=0),\n",
        "            nn.Dropout(0.3),\n",
        "\n",
        "            nn.Conv2d(32, 64, kernel_size=3, stride=1, padding=1),\n",
        "            nn.ReLU(),\n",
        "            nn.BatchNorm2d(64),\n",
        "            nn.Conv2d(64, 64, kernel_size=3, stride=1, padding=1),\n",
        "            nn.ReLU(),\n",
        "            nn.BatchNorm2d(64),\n",
        "            nn.MaxPool2d((2, 2), stride=2, padding=0),\n",
        "            nn.Dropout(0.5),\n",
        "\n",
        "            nn.Conv2d(64, 128, kernel_size=3, stride=1, padding=1),\n",
        "            nn.ReLU(),\n",
        "            nn.BatchNorm2d(128),\n",
        "            nn.Conv2d(128, 128, kernel_size=3, stride=1, padding=1),\n",
        "            nn.ReLU(),\n",
        "            nn.BatchNorm2d(128), \n",
        "            nn.MaxPool2d((2, 2), stride=2, padding=0),\n",
        "            nn.Dropout(0.5)\n",
        "        )\n",
        "\n",
        "        # We then define fully connected layers as a classifier\n",
        "        self.classifier = nn.Sequential(\n",
        "            nn.Linear(4*4*128, 128),\n",
        "            nn.ReLU(),\n",
        "            nn.BatchNorm1d(128),\n",
        "            nn.Dropout(0.5),\n",
        "            nn.Linear(128, 10)\n",
        "        )\n",
        "\n",
        "    # Method called when we apply the network to an input batch\n",
        "    def forward(self, input):\n",
        "        bsize = input.size(0) # batch size\n",
        "        output = self.features(input) # output of the convolution layers\n",
        "        output = output.view(bsize, -1) # we flatten the 2D feature maps into one 1D vector for each input\n",
        "        output = self.classifier(output) # we compute the output of the fc layers\n",
        "        return output"
      ],
      "metadata": {
        "id": "9rjW_N-XNeSq"
      },
      "execution_count": 8,
      "outputs": []
    },
    {
      "cell_type": "code",
      "source": [
        "modeltuto = ConvNet2()\n",
        "summary(modeltuto.to(device),(3,32,32))"
      ],
      "metadata": {
        "colab": {
          "base_uri": "https://localhost:8080/"
        },
        "id": "Stzkhay4dUo9",
        "outputId": "e3f03b73-ec48-4391-9ce1-e7b111e37357"
      },
      "execution_count": 9,
      "outputs": [
        {
          "output_type": "stream",
          "name": "stdout",
          "text": [
            "----------------------------------------------------------------\n",
            "        Layer (type)               Output Shape         Param #\n",
            "================================================================\n",
            "            Conv2d-1           [-1, 32, 32, 32]             896\n",
            "              ReLU-2           [-1, 32, 32, 32]               0\n",
            "       BatchNorm2d-3           [-1, 32, 32, 32]              64\n",
            "            Conv2d-4           [-1, 32, 32, 32]           9,248\n",
            "              ReLU-5           [-1, 32, 32, 32]               0\n",
            "       BatchNorm2d-6           [-1, 32, 32, 32]              64\n",
            "         MaxPool2d-7           [-1, 32, 16, 16]               0\n",
            "           Dropout-8           [-1, 32, 16, 16]               0\n",
            "            Conv2d-9           [-1, 64, 16, 16]          18,496\n",
            "             ReLU-10           [-1, 64, 16, 16]               0\n",
            "      BatchNorm2d-11           [-1, 64, 16, 16]             128\n",
            "           Conv2d-12           [-1, 64, 16, 16]          36,928\n",
            "             ReLU-13           [-1, 64, 16, 16]               0\n",
            "      BatchNorm2d-14           [-1, 64, 16, 16]             128\n",
            "        MaxPool2d-15             [-1, 64, 8, 8]               0\n",
            "          Dropout-16             [-1, 64, 8, 8]               0\n",
            "           Conv2d-17            [-1, 128, 8, 8]          73,856\n",
            "             ReLU-18            [-1, 128, 8, 8]               0\n",
            "      BatchNorm2d-19            [-1, 128, 8, 8]             256\n",
            "           Conv2d-20            [-1, 128, 8, 8]         147,584\n",
            "             ReLU-21            [-1, 128, 8, 8]               0\n",
            "      BatchNorm2d-22            [-1, 128, 8, 8]             256\n",
            "        MaxPool2d-23            [-1, 128, 4, 4]               0\n",
            "          Dropout-24            [-1, 128, 4, 4]               0\n",
            "           Linear-25                  [-1, 128]         262,272\n",
            "             ReLU-26                  [-1, 128]               0\n",
            "      BatchNorm1d-27                  [-1, 128]             256\n",
            "          Dropout-28                  [-1, 128]               0\n",
            "           Linear-29                   [-1, 10]           1,290\n",
            "================================================================\n",
            "Total params: 551,722\n",
            "Trainable params: 551,722\n",
            "Non-trainable params: 0\n",
            "----------------------------------------------------------------\n",
            "Input size (MB): 0.01\n",
            "Forward/backward pass size (MB): 2.85\n",
            "Params size (MB): 2.10\n",
            "Estimated Total Size (MB): 4.96\n",
            "----------------------------------------------------------------\n"
          ]
        }
      ]
    },
    {
      "cell_type": "markdown",
      "source": [
        "This model has more parameters than our second model but still less than the first one."
      ],
      "metadata": {
        "id": "6lVpWj1koLt7"
      }
    },
    {
      "cell_type": "code",
      "source": [
        "main(modeltuto, batch_size=32, epochs=20, cuda=CUDA)"
      ],
      "metadata": {
        "colab": {
          "base_uri": "https://localhost:8080/",
          "height": 642
        },
        "id": "Ft72VrDrdUu8",
        "outputId": "cde1a099-f6a7-4dee-8e83-df0675277375"
      },
      "execution_count": 10,
      "outputs": [
        {
          "output_type": "stream",
          "name": "stdout",
          "text": [
            "=================\n",
            "=== EPOCH 20 =====\n",
            "=================\n",
            "\n",
            "[TRAIN Batch 000/1563]\tTime 0.126s (0.126s)\tLoss 0.5142 (0.5142)\tPrec@1  87.5 ( 87.5)\tPrec@5 100.0 (100.0)\n",
            "[TRAIN Batch 200/1563]\tTime 0.013s (0.013s)\tLoss 0.6283 (0.4710)\tPrec@1  87.5 ( 83.7)\tPrec@5  96.9 ( 99.4)\n",
            "[TRAIN Batch 400/1563]\tTime 0.014s (0.013s)\tLoss 0.4196 (0.4725)\tPrec@1  87.5 ( 83.7)\tPrec@5 100.0 ( 99.4)\n",
            "[TRAIN Batch 600/1563]\tTime 0.013s (0.013s)\tLoss 0.5666 (0.4704)\tPrec@1  75.0 ( 83.7)\tPrec@5 100.0 ( 99.3)\n",
            "[TRAIN Batch 800/1563]\tTime 0.013s (0.013s)\tLoss 0.7013 (0.4789)\tPrec@1  75.0 ( 83.4)\tPrec@5 100.0 ( 99.3)\n",
            "[TRAIN Batch 1000/1563]\tTime 0.012s (0.013s)\tLoss 0.4375 (0.4808)\tPrec@1  84.4 ( 83.4)\tPrec@5 100.0 ( 99.3)\n",
            "[TRAIN Batch 1200/1563]\tTime 0.012s (0.013s)\tLoss 0.5504 (0.4793)\tPrec@1  78.1 ( 83.5)\tPrec@5 100.0 ( 99.3)\n",
            "[TRAIN Batch 1400/1563]\tTime 0.013s (0.013s)\tLoss 0.4179 (0.4822)\tPrec@1  78.1 ( 83.4)\tPrec@5 100.0 ( 99.3)\n",
            "\n",
            "===============> Total time 20s\tAvg loss 0.4817\tAvg Prec@1 83.49 %\tAvg Prec@5 99.26 %\n",
            "\n",
            "[EVAL Batch 000/313]\tTime 0.105s (0.105s)\tLoss 0.2470 (0.2470)\tPrec@1  96.9 ( 96.9)\tPrec@5 100.0 (100.0)\n",
            "[EVAL Batch 200/313]\tTime 0.009s (0.007s)\tLoss 0.4848 (0.4369)\tPrec@1  84.4 ( 85.5)\tPrec@5 100.0 ( 99.5)\n",
            "\n",
            "===============> Total time 2s\tAvg loss 0.4327\tAvg Prec@1 85.50 %\tAvg Prec@5 99.52 %\n",
            "\n"
          ]
        },
        {
          "output_type": "display_data",
          "data": {
            "text/plain": [
              "<Figure size 432x288 with 2 Axes>"
            ],
            "image/png": "[encoded data removed]"
          },
          "metadata": {
            "needs_background": "light"
          }
        }
      ]
    },
    {
      "cell_type": "markdown",
      "source": [
        "We now have 85% of test accuracy, and we could even continue training until we really reach convergence on the loss curves.\n",
        "\n",
        "This can be explained by the use of both batch normalization and dropout and low batch size for training, but also by the hyperparameters used for the different layers.\n",
        "\n",
        "The first layers in a CNNs usually detect low level features like edges. They don't need a lot of channels. The last layers extract more subtle features like wings, wheels, etc.\n",
        "\n",
        "This means that the deeper we go in the network, the more channels there should be in order to catch more nuanced details, which is accentuated in this architecture."
      ],
      "metadata": {
        "id": "6c4aNDCIoLA-"
      }
    },
    {
      "cell_type": "markdown",
      "source": [
        "<a name=\"results\"></a>\n",
        "## Visualizing results\n",
        "\n",
        "### With the second model"
      ],
      "metadata": {
        "id": "PeF5DnWnF8B2"
      }
    },
    {
      "cell_type": "code",
      "source": [
        "# Loading full test dataset\n",
        "train, test = get_dataset(batch_size=5000,cuda=CUDA)\n",
        "iter_test = iter(test)\n",
        "test_features,test_labels = iter_test.next()"
      ],
      "metadata": {
        "id": "o5qWzNpg8_qO",
        "colab": {
          "base_uri": "https://localhost:8080/"
        },
        "outputId": "878ef522-6178-4d2c-b7ad-70472d95db6e"
      },
      "execution_count": 11,
      "outputs": [
        {
          "output_type": "stream",
          "name": "stdout",
          "text": [
            "Files already downloaded and verified\n",
            "Files already downloaded and verified\n"
          ]
        }
      ]
    },
    {
      "cell_type": "code",
      "source": [
        "# Predicted classes using the second model\n",
        "model2cpu = model2.cpu()\n",
        "y_pred = model2cpu.forward(test_features)\n",
        "y_pred_classes = [np.argmax(element) for element in y_pred.detach().numpy()]"
      ],
      "metadata": {
        "id": "HvIZ3iBr2cPO"
      },
      "execution_count": null,
      "outputs": []
    },
    {
      "cell_type": "code",
      "source": [
        "plt.figure(figsize=(10, 4))\n",
        "for i in range(5):\n",
        "    ax = plt.subplot(1,5,i+1)\n",
        "    num = random.randint(0, test_features.shape[0])\n",
        "    img = test_features[num].numpy().transpose((1,2,0))\n",
        "    plt.imshow(img)\n",
        "    plt.title(\"{} predicted\\nas {}\".format(classes[test_labels[num]],classes[y_pred_classes[num]]))\n",
        "    ax.get_xaxis().set_visible(False)\n",
        "    ax.get_yaxis().set_visible(False)\n",
        "    \n",
        "plt.show()"
      ],
      "metadata": {
        "id": "t-eUuEjHyTS3",
        "colab": {
          "base_uri": "https://localhost:8080/",
          "height": 162
        },
        "outputId": "2068cf61-7b5a-49ad-aa6c-49e6e3cdbfb1"
      },
      "execution_count": null,
      "outputs": [
        {
          "output_type": "display_data",
          "data": {
            "text/plain": [
              "<Figure size 720x288 with 5 Axes>"
            ],
            "image/png": "[encoded data removed]"
          },
          "metadata": {
            "needs_background": "light"
          }
        }
      ]
    },
    {
      "cell_type": "markdown",
      "source": [
        "We may want to know which categories were better predicted compared to others. The `classification_report` function from scikit-learn allows us to see that through the following three classification metrics :\n",
        "\n",
        "* precision = proportion of predicted positives that is truly positive : $\\frac{tp}{tp+fp}$\n",
        "* recall = proportion of actual positives that are correctly classified : $\\frac{tp}{tp+fn}$\n",
        "* F1-score = harmonic mean of precision and recall : $2\\times\\frac{precision \\times recall}{precesion+recall}$\n",
        "\n",
        "where tp stands for true positive, fp for false positive, tn for true negative and fn for false negative."
      ],
      "metadata": {
        "id": "klOUnnxGxkiJ"
      }
    },
    {
      "cell_type": "code",
      "source": [
        "print(\"model classification report: \\n\\n\", classification_report(test_labels, y_pred_classes))"
      ],
      "metadata": {
        "id": "4gMoBevDp6x3",
        "colab": {
          "base_uri": "https://localhost:8080/"
        },
        "outputId": "0f8b512d-7b44-44d7-80f2-b7fbf4765421"
      },
      "execution_count": null,
      "outputs": [
        {
          "output_type": "stream",
          "name": "stdout",
          "text": [
            "model classification report: \n",
            "\n",
            "               precision    recall  f1-score   support\n",
            "\n",
            "           0       0.73      0.78      0.75      1000\n",
            "           1       0.84      0.83      0.83      1000\n",
            "           2       0.67      0.56      0.61      1000\n",
            "           3       0.50      0.60      0.55      1000\n",
            "           4       0.65      0.66      0.66      1000\n",
            "           5       0.74      0.48      0.59      1000\n",
            "           6       0.67      0.85      0.75      1000\n",
            "           7       0.74      0.80      0.77      1000\n",
            "           8       0.85      0.81      0.83      1000\n",
            "           9       0.83      0.76      0.79      1000\n",
            "\n",
            "    accuracy                           0.71     10000\n",
            "   macro avg       0.72      0.71      0.71     10000\n",
            "weighted avg       0.72      0.71      0.71     10000\n",
            "\n"
          ]
        }
      ]
    },
    {
      "cell_type": "markdown",
      "source": [
        "We can also show the confusion matrix for a more visual interpretation of results."
      ],
      "metadata": {
        "id": "j8kPhzJnxzlS"
      }
    },
    {
      "cell_type": "code",
      "source": [
        "fig, ax = plt.subplots(figsize=(10,10))\n",
        "cm = confusion_matrix(test_labels, y_pred_classes)\n",
        "cm_display = ConfusionMatrixDisplay(cm,display_labels=classes).plot(ax=ax)"
      ],
      "metadata": {
        "colab": {
          "base_uri": "https://localhost:8080/",
          "height": 580
        },
        "id": "qRzjBkmAx7wa",
        "outputId": "5bfe9c2d-0688-4cb5-caa5-51bd12d6c516"
      },
      "execution_count": null,
      "outputs": [
        {
          "output_type": "display_data",
          "data": {
            "text/plain": [
              "<Figure size 720x720 with 2 Axes>"
            ],
            "image/png": "[encoded data removed]"
          },
          "metadata": {
            "needs_background": "light"
          }
        }
      ]
    },
    {
      "cell_type": "markdown",
      "source": [
        "### With the tutorial model"
      ],
      "metadata": {
        "id": "VX65krNB-2UM"
      }
    },
    {
      "cell_type": "code",
      "source": [
        "# Predicted classes using the second model\n",
        "modeltutocpu = modeltuto.cpu()\n",
        "y_pred = modeltutocpu.forward(test_features)\n",
        "y_pred_classes = [np.argmax(element) for element in y_pred.detach().numpy()]\n",
        "\n",
        "print(\"modeltuto classification report: \\n\\n\", classification_report(test_labels, y_pred_classes))"
      ],
      "metadata": {
        "id": "qolcgu1J-5-Y",
        "colab": {
          "base_uri": "https://localhost:8080/"
        },
        "outputId": "3e9a0b3b-0e90-4ae9-9ae2-335f0d27cade"
      },
      "execution_count": 12,
      "outputs": [
        {
          "output_type": "stream",
          "name": "stdout",
          "text": [
            "modeltuto classification report: \n",
            "\n",
            "               precision    recall  f1-score   support\n",
            "\n",
            "           0       0.81      0.89      0.85       488\n",
            "           1       0.93      0.93      0.93       505\n",
            "           2       0.86      0.72      0.78       512\n",
            "           3       0.76      0.71      0.74       497\n",
            "           4       0.82      0.86      0.84       507\n",
            "           5       0.82      0.76      0.79       488\n",
            "           6       0.86      0.90      0.88       491\n",
            "           7       0.86      0.91      0.88       495\n",
            "           8       0.90      0.93      0.91       504\n",
            "           9       0.90      0.92      0.91       513\n",
            "\n",
            "    accuracy                           0.85      5000\n",
            "   macro avg       0.85      0.85      0.85      5000\n",
            "weighted avg       0.85      0.85      0.85      5000\n",
            "\n"
          ]
        }
      ]
    },
    {
      "cell_type": "code",
      "source": [
        "fig, ax = plt.subplots(figsize=(10,10))\n",
        "cm = confusion_matrix(test_labels, y_pred_classes)\n",
        "cm_display = ConfusionMatrixDisplay(cm,display_labels=classes).plot(ax=ax)"
      ],
      "metadata": {
        "id": "g0NrtZ3zR9Dj",
        "colab": {
          "base_uri": "https://localhost:8080/",
          "height": 580
        },
        "outputId": "3e8d01d6-a8c1-4b1b-ba50-75121e0aebfe"
      },
      "execution_count": 13,
      "outputs": [
        {
          "output_type": "display_data",
          "data": {
            "text/plain": [
              "<Figure size 720x720 with 2 Axes>"
            ],
            "image/png": "[encoded data removed]"
          },
          "metadata": {
            "needs_background": "light"
          }
        }
      ]
    },
    {
      "cell_type": "markdown",
      "metadata": {
        "id": "RUq8Wk00ZGAK"
      },
      "source": [
        "<a name=\"ccl\"></a>\n",
        "## Conclusion\n",
        "\n",
        "We have first built a model that showed strong overfitting. We then modified it to reduce overfitting, which gave a little better results proving that our solutions helped indeed fighting the problem.\n",
        "\n",
        "We finally reimplemented a model from Kaggle and discussed about why it performed much better.\n",
        "\n",
        "Future works could be doing data augmentation to generate more training samples and make our models invariant to rotation, illumination, translation, etc, or using pre-trained models and use transfer learning to classify images of this dataset."
      ]
    }
  ],
  "metadata": {
    "accelerator": "GPU",
    "colab": {
      "collapsed_sections": [],
      "provenance": []
    },
    "gpuClass": "standard",
    "kernelspec": {
      "display_name": "Python 3",
      "name": "python3"
    },
    "language_info": {
      "name": "python"
    },
    "widgets": {
      "application/vnd.jupyter.widget-state+json": {
        "3fe5682580754a1cb335abb4f5239178": {
          "model_module": "@jupyter-widgets/controls",
          "model_name": "HBoxModel",
          "model_module_version": "1.5.0",
          "state": {
            "_dom_classes": [],
            "_model_module": "@jupyter-widgets/controls",
            "_model_module_version": "1.5.0",
            "_model_name": "HBoxModel",
            "_view_count": null,
            "_view_module": "@jupyter-widgets/controls",
            "_view_module_version": "1.5.0",
            "_view_name": "HBoxView",
            "box_style": "",
            "children": [
              "IPY_MODEL_8ff1ad6bb1aa442d9fb1aa04e59304da",
              "IPY_MODEL_2b34b78bfa9d4791882f1ac6a1986b37",
              "IPY_MODEL_8c3dbfbd5a50411c97e5146f4a193317"
            ],
            "layout": "IPY_MODEL_d8ac0fe4d7d843a8a987f44f0f402120"
          }
        },
        "8ff1ad6bb1aa442d9fb1aa04e59304da": {
          "model_module": "@jupyter-widgets/controls",
          "model_name": "HTMLModel",
          "model_module_version": "1.5.0",
          "state": {
            "_dom_classes": [],
            "_model_module": "@jupyter-widgets/controls",
            "_model_module_version": "1.5.0",
            "_model_name": "HTMLModel",
            "_view_count": null,
            "_view_module": "@jupyter-widgets/controls",
            "_view_module_version": "1.5.0",
            "_view_name": "HTMLView",
            "description": "",
            "description_tooltip": null,
            "layout": "IPY_MODEL_6b645563a8594c448171771581c7238f",
            "placeholder": "​",
            "style": "IPY_MODEL_ca1b3d1cd2b2480e9c228ba967cf72aa",
            "value": "100%"
          }
        },
        "2b34b78bfa9d4791882f1ac6a1986b37": {
          "model_module": "@jupyter-widgets/controls",
          "model_name": "FloatProgressModel",
          "model_module_version": "1.5.0",
          "state": {
            "_dom_classes": [],
            "_model_module": "@jupyter-widgets/controls",
            "_model_module_version": "1.5.0",
            "_model_name": "FloatProgressModel",
            "_view_count": null,
            "_view_module": "@jupyter-widgets/controls",
            "_view_module_version": "1.5.0",
            "_view_name": "ProgressView",
            "bar_style": "success",
            "description": "",
            "description_tooltip": null,
            "layout": "IPY_MODEL_a163bee7839e45c2a751e6e2cba2629a",
            "max": 170498071,
            "min": 0,
            "orientation": "horizontal",
            "style": "IPY_MODEL_4372532c714e4416a01ceaec31f05b18",
            "value": 170498071
          }
        },
        "8c3dbfbd5a50411c97e5146f4a193317": {
          "model_module": "@jupyter-widgets/controls",
          "model_name": "HTMLModel",
          "model_module_version": "1.5.0",
          "state": {
            "_dom_classes": [],
            "_model_module": "@jupyter-widgets/controls",
            "_model_module_version": "1.5.0",
            "_model_name": "HTMLModel",
            "_view_count": null,
            "_view_module": "@jupyter-widgets/controls",
            "_view_module_version": "1.5.0",
            "_view_name": "HTMLView",
            "description": "",
            "description_tooltip": null,
            "layout": "IPY_MODEL_0499a4533f954306a0dab9db47fee709",
            "placeholder": "​",
            "style": "IPY_MODEL_7f8179453a994fc4b2ab48de59067744",
            "value": " 170498071/170498071 [00:13&lt;00:00, 13312264.39it/s]"
          }
        },
        "d8ac0fe4d7d843a8a987f44f0f402120": {
          "model_module": "@jupyter-widgets/base",
          "model_name": "LayoutModel",
          "model_module_version": "1.2.0",
          "state": {
            "_model_module": "@jupyter-widgets/base",
            "_model_module_version": "1.2.0",
            "_model_name": "LayoutModel",
            "_view_count": null,
            "_view_module": "@jupyter-widgets/base",
            "_view_module_version": "1.2.0",
            "_view_name": "LayoutView",
            "align_content": null,
            "align_items": null,
            "align_self": null,
            "border": null,
            "bottom": null,
            "display": null,
            "flex": null,
            "flex_flow": null,
            "grid_area": null,
            "grid_auto_columns": null,
            "grid_auto_flow": null,
            "grid_auto_rows": null,
            "grid_column": null,
            "grid_gap": null,
            "grid_row": null,
            "grid_template_areas": null,
            "grid_template_columns": null,
            "grid_template_rows": null,
            "height": null,
            "justify_content": null,
            "justify_items": null,
            "left": null,
            "margin": null,
            "max_height": null,
            "max_width": null,
            "min_height": null,
            "min_width": null,
            "object_fit": null,
            "object_position": null,
            "order": null,
            "overflow": null,
            "overflow_x": null,
            "overflow_y": null,
            "padding": null,
            "right": null,
            "top": null,
            "visibility": null,
            "width": null
          }
        },
        "6b645563a8594c448171771581c7238f": {
          "model_module": "@jupyter-widgets/base",
          "model_name": "LayoutModel",
          "model_module_version": "1.2.0",
          "state": {
            "_model_module": "@jupyter-widgets/base",
            "_model_module_version": "1.2.0",
            "_model_name": "LayoutModel",
            "_view_count": null,
            "_view_module": "@jupyter-widgets/base",
            "_view_module_version": "1.2.0",
            "_view_name": "LayoutView",
            "align_content": null,
            "align_items": null,
            "align_self": null,
            "border": null,
            "bottom": null,
            "display": null,
            "flex": null,
            "flex_flow": null,
            "grid_area": null,
            "grid_auto_columns": null,
            "grid_auto_flow": null,
            "grid_auto_rows": null,
            "grid_column": null,
            "grid_gap": null,
            "grid_row": null,
            "grid_template_areas": null,
            "grid_template_columns": null,
            "grid_template_rows": null,
            "height": null,
            "justify_content": null,
            "justify_items": null,
            "left": null,
            "margin": null,
            "max_height": null,
            "max_width": null,
            "min_height": null,
            "min_width": null,
            "object_fit": null,
            "object_position": null,
            "order": null,
            "overflow": null,
            "overflow_x": null,
            "overflow_y": null,
            "padding": null,
            "right": null,
            "top": null,
            "visibility": null,
            "width": null
          }
        },
        "ca1b3d1cd2b2480e9c228ba967cf72aa": {
          "model_module": "@jupyter-widgets/controls",
          "model_name": "DescriptionStyleModel",
          "model_module_version": "1.5.0",
          "state": {
            "_model_module": "@jupyter-widgets/controls",
            "_model_module_version": "1.5.0",
            "_model_name": "DescriptionStyleModel",
            "_view_count": null,
            "_view_module": "@jupyter-widgets/base",
            "_view_module_version": "1.2.0",
            "_view_name": "StyleView",
            "description_width": ""
          }
        },
        "a163bee7839e45c2a751e6e2cba2629a": {
          "model_module": "@jupyter-widgets/base",
          "model_name": "LayoutModel",
          "model_module_version": "1.2.0",
          "state": {
            "_model_module": "@jupyter-widgets/base",
            "_model_module_version": "1.2.0",
            "_model_name": "LayoutModel",
            "_view_count": null,
            "_view_module": "@jupyter-widgets/base",
            "_view_module_version": "1.2.0",
            "_view_name": "LayoutView",
            "align_content": null,
            "align_items": null,
            "align_self": null,
            "border": null,
            "bottom": null,
            "display": null,
            "flex": null,
            "flex_flow": null,
            "grid_area": null,
            "grid_auto_columns": null,
            "grid_auto_flow": null,
            "grid_auto_rows": null,
            "grid_column": null,
            "grid_gap": null,
            "grid_row": null,
            "grid_template_areas": null,
            "grid_template_columns": null,
            "grid_template_rows": null,
            "height": null,
            "justify_content": null,
            "justify_items": null,
            "left": null,
            "margin": null,
            "max_height": null,
            "max_width": null,
            "min_height": null,
            "min_width": null,
            "object_fit": null,
            "object_position": null,
            "order": null,
            "overflow": null,
            "overflow_x": null,
            "overflow_y": null,
            "padding": null,
            "right": null,
            "top": null,
            "visibility": null,
            "width": null
          }
        },
        "4372532c714e4416a01ceaec31f05b18": {
          "model_module": "@jupyter-widgets/controls",
          "model_name": "ProgressStyleModel",
          "model_module_version": "1.5.0",
          "state": {
            "_model_module": "@jupyter-widgets/controls",
            "_model_module_version": "1.5.0",
            "_model_name": "ProgressStyleModel",
            "_view_count": null,
            "_view_module": "@jupyter-widgets/base",
            "_view_module_version": "1.2.0",
            "_view_name": "StyleView",
            "bar_color": null,
            "description_width": ""
          }
        },
        "0499a4533f954306a0dab9db47fee709": {
          "model_module": "@jupyter-widgets/base",
          "model_name": "LayoutModel",
          "model_module_version": "1.2.0",
          "state": {
            "_model_module": "@jupyter-widgets/base",
            "_model_module_version": "1.2.0",
            "_model_name": "LayoutModel",
            "_view_count": null,
            "_view_module": "@jupyter-widgets/base",
            "_view_module_version": "1.2.0",
            "_view_name": "LayoutView",
            "align_content": null,
            "align_items": null,
            "align_self": null,
            "border": null,
            "bottom": null,
            "display": null,
            "flex": null,
            "flex_flow": null,
            "grid_area": null,
            "grid_auto_columns": null,
            "grid_auto_flow": null,
            "grid_auto_rows": null,
            "grid_column": null,
            "grid_gap": null,
            "grid_row": null,
            "grid_template_areas": null,
            "grid_template_columns": null,
            "grid_template_rows": null,
            "height": null,
            "justify_content": null,
            "justify_items": null,
            "left": null,
            "margin": null,
            "max_height": null,
            "max_width": null,
            "min_height": null,
            "min_width": null,
            "object_fit": null,
            "object_position": null,
            "order": null,
            "overflow": null,
            "overflow_x": null,
            "overflow_y": null,
            "padding": null,
            "right": null,
            "top": null,
            "visibility": null,
            "width": null
          }
        },
        "7f8179453a994fc4b2ab48de59067744": {
          "model_module": "@jupyter-widgets/controls",
          "model_name": "DescriptionStyleModel",
          "model_module_version": "1.5.0",
          "state": {
            "_model_module": "@jupyter-widgets/controls",
            "_model_module_version": "1.5.0",
            "_model_name": "DescriptionStyleModel",
            "_view_count": null,
            "_view_module": "@jupyter-widgets/base",
            "_view_module_version": "1.2.0",
            "_view_name": "StyleView",
            "description_width": ""
          }
        }
      }
    }
  },
  "nbformat": 4,
  "nbformat_minor": 0
}